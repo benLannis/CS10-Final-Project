{
 "cells": [
  {
   "cell_type": "markdown",
   "metadata": {},
   "source": [
    "# CMPINF-0010 Final Project (The Foodies)"
   ]
  },
  {
   "cell_type": "markdown",
   "metadata": {},
   "source": [
    "## My Metric"
   ]
  },
  {
   "cell_type": "markdown",
   "metadata": {},
   "source": [
    "Like previously stated, our group has determined that the best neighborhood in Pittsburgh is the one that has the best food. My dataset contains all of the food gardens in Pittsburgh, and I am going to determine how many food gardens are in each Pittsburgh neighborhood. More food gardens correlates to better neighborhood, and I will begin my exploration by loading in the dataset and viewing a few of the rows. "
   ]
  },
  {
   "cell_type": "code",
   "execution_count": 1,
   "metadata": {},
   "outputs": [
    {
     "data": {
      "text/html": [
       "<div>\n",
       "<style scoped>\n",
       "    .dataframe tbody tr th:only-of-type {\n",
       "        vertical-align: middle;\n",
       "    }\n",
       "\n",
       "    .dataframe tbody tr th {\n",
       "        vertical-align: top;\n",
       "    }\n",
       "\n",
       "    .dataframe thead th {\n",
       "        text-align: right;\n",
       "    }\n",
       "</style>\n",
       "<table border=\"1\" class=\"dataframe\">\n",
       "  <thead>\n",
       "    <tr style=\"text-align: right;\">\n",
       "      <th></th>\n",
       "      <th>urban_grower</th>\n",
       "      <th>grower_id</th>\n",
       "      <th>category</th>\n",
       "      <th>url</th>\n",
       "      <th>street_address</th>\n",
       "      <th>city</th>\n",
       "      <th>state</th>\n",
       "      <th>zip_code</th>\n",
       "      <th>country</th>\n",
       "      <th>latitude</th>\n",
       "      <th>longitude</th>\n",
       "    </tr>\n",
       "  </thead>\n",
       "  <tbody>\n",
       "    <tr>\n",
       "      <th>0</th>\n",
       "      <td>Angora Gardens</td>\n",
       "      <td>584</td>\n",
       "      <td>sustainability-fund-site|other</td>\n",
       "      <td>https://www.growpittsburgh.org/directory/garde...</td>\n",
       "      <td>3 Muse Lane</td>\n",
       "      <td>White Oak</td>\n",
       "      <td>Pennsylvania</td>\n",
       "      <td>15131.0</td>\n",
       "      <td>US</td>\n",
       "      <td>40.404686</td>\n",
       "      <td>-79.862095</td>\n",
       "    </tr>\n",
       "    <tr>\n",
       "      <th>1</th>\n",
       "      <td>Everybody's Garden</td>\n",
       "      <td>586</td>\n",
       "      <td>sustainability-fund-site|other</td>\n",
       "      <td>https://www.growpittsburgh.org/directory/garde...</td>\n",
       "      <td>301 West Elizabeth Street</td>\n",
       "      <td>Pittsburgh</td>\n",
       "      <td>Pennsylvania</td>\n",
       "      <td>15207.0</td>\n",
       "      <td>US</td>\n",
       "      <td>40.406546</td>\n",
       "      <td>-79.945442</td>\n",
       "    </tr>\n",
       "    <tr>\n",
       "      <th>2</th>\n",
       "      <td>EvGard Extension</td>\n",
       "      <td>587</td>\n",
       "      <td>other</td>\n",
       "      <td>https://www.growpittsburgh.org/directory/garde...</td>\n",
       "      <td>NaN</td>\n",
       "      <td>Pittsburgh</td>\n",
       "      <td>Pennsylvania</td>\n",
       "      <td>15201.0</td>\n",
       "      <td>US</td>\n",
       "      <td>40.406377</td>\n",
       "      <td>-79.945559</td>\n",
       "    </tr>\n",
       "    <tr>\n",
       "      <th>3</th>\n",
       "      <td>Glen Hazel Communiuty Garden</td>\n",
       "      <td>588</td>\n",
       "      <td>other</td>\n",
       "      <td>https://www.growpittsburgh.org/directory/garde...</td>\n",
       "      <td>Johnston Avenue at Roselle Drive</td>\n",
       "      <td>Pittsburgh</td>\n",
       "      <td>Pennsylvania</td>\n",
       "      <td>15207.0</td>\n",
       "      <td>US</td>\n",
       "      <td>40.406040</td>\n",
       "      <td>-79.931253</td>\n",
       "    </tr>\n",
       "  </tbody>\n",
       "</table>\n",
       "</div>"
      ],
      "text/plain": [
       "                   urban_grower  grower_id                        category  \\\n",
       "0                Angora Gardens        584  sustainability-fund-site|other   \n",
       "1            Everybody's Garden        586  sustainability-fund-site|other   \n",
       "2              EvGard Extension        587                           other   \n",
       "3  Glen Hazel Communiuty Garden        588                           other   \n",
       "\n",
       "                                                 url  \\\n",
       "0  https://www.growpittsburgh.org/directory/garde...   \n",
       "1  https://www.growpittsburgh.org/directory/garde...   \n",
       "2  https://www.growpittsburgh.org/directory/garde...   \n",
       "3  https://www.growpittsburgh.org/directory/garde...   \n",
       "\n",
       "                     street_address        city         state  zip_code  \\\n",
       "0                       3 Muse Lane   White Oak  Pennsylvania   15131.0   \n",
       "1         301 West Elizabeth Street  Pittsburgh  Pennsylvania   15207.0   \n",
       "2                               NaN  Pittsburgh  Pennsylvania   15201.0   \n",
       "3  Johnston Avenue at Roselle Drive  Pittsburgh  Pennsylvania   15207.0   \n",
       "\n",
       "  country   latitude  longitude  \n",
       "0      US  40.404686 -79.862095  \n",
       "1      US  40.406546 -79.945442  \n",
       "2      US  40.406377 -79.945559  \n",
       "3      US  40.406040 -79.931253  "
      ]
     },
     "execution_count": 1,
     "metadata": {},
     "output_type": "execute_result"
    }
   ],
   "source": [
    "import pandas as pd \n",
    "import geopandas as gpd\n",
    "\n",
    "data = pd.read_csv('data/GrowGardenData.csv')\n",
    "data.head(4)"
   ]
  },
  {
   "cell_type": "markdown",
   "metadata": {},
   "source": [
    "For each grow garden in Pittsburgh, this dataset contains it's name, a unique ID, the type of garden, it's city, state, zip code, country, latitude, and longitude. "
   ]
  },
  {
   "cell_type": "markdown",
   "metadata": {},
   "source": [
    "I am going to drop a couple of columns from the dataset which are not useful in determining which gardens are in which neighborhood, in order to tidy up the dataset. "
   ]
  },
  {
   "cell_type": "code",
   "execution_count": 2,
   "metadata": {},
   "outputs": [
    {
     "data": {
      "text/html": [
       "<div>\n",
       "<style scoped>\n",
       "    .dataframe tbody tr th:only-of-type {\n",
       "        vertical-align: middle;\n",
       "    }\n",
       "\n",
       "    .dataframe tbody tr th {\n",
       "        vertical-align: top;\n",
       "    }\n",
       "\n",
       "    .dataframe thead th {\n",
       "        text-align: right;\n",
       "    }\n",
       "</style>\n",
       "<table border=\"1\" class=\"dataframe\">\n",
       "  <thead>\n",
       "    <tr style=\"text-align: right;\">\n",
       "      <th></th>\n",
       "      <th>urban_grower</th>\n",
       "      <th>grower_id</th>\n",
       "      <th>street_address</th>\n",
       "      <th>city</th>\n",
       "      <th>zip_code</th>\n",
       "      <th>latitude</th>\n",
       "      <th>longitude</th>\n",
       "    </tr>\n",
       "  </thead>\n",
       "  <tbody>\n",
       "    <tr>\n",
       "      <th>0</th>\n",
       "      <td>Angora Gardens</td>\n",
       "      <td>584</td>\n",
       "      <td>3 Muse Lane</td>\n",
       "      <td>White Oak</td>\n",
       "      <td>15131.0</td>\n",
       "      <td>40.404686</td>\n",
       "      <td>-79.862095</td>\n",
       "    </tr>\n",
       "    <tr>\n",
       "      <th>1</th>\n",
       "      <td>Everybody's Garden</td>\n",
       "      <td>586</td>\n",
       "      <td>301 West Elizabeth Street</td>\n",
       "      <td>Pittsburgh</td>\n",
       "      <td>15207.0</td>\n",
       "      <td>40.406546</td>\n",
       "      <td>-79.945442</td>\n",
       "    </tr>\n",
       "    <tr>\n",
       "      <th>2</th>\n",
       "      <td>EvGard Extension</td>\n",
       "      <td>587</td>\n",
       "      <td>NaN</td>\n",
       "      <td>Pittsburgh</td>\n",
       "      <td>15201.0</td>\n",
       "      <td>40.406377</td>\n",
       "      <td>-79.945559</td>\n",
       "    </tr>\n",
       "    <tr>\n",
       "      <th>3</th>\n",
       "      <td>Glen Hazel Communiuty Garden</td>\n",
       "      <td>588</td>\n",
       "      <td>Johnston Avenue at Roselle Drive</td>\n",
       "      <td>Pittsburgh</td>\n",
       "      <td>15207.0</td>\n",
       "      <td>40.406040</td>\n",
       "      <td>-79.931253</td>\n",
       "    </tr>\n",
       "  </tbody>\n",
       "</table>\n",
       "</div>"
      ],
      "text/plain": [
       "                   urban_grower  grower_id                    street_address  \\\n",
       "0                Angora Gardens        584                       3 Muse Lane   \n",
       "1            Everybody's Garden        586         301 West Elizabeth Street   \n",
       "2              EvGard Extension        587                               NaN   \n",
       "3  Glen Hazel Communiuty Garden        588  Johnston Avenue at Roselle Drive   \n",
       "\n",
       "         city  zip_code   latitude  longitude  \n",
       "0   White Oak   15131.0  40.404686 -79.862095  \n",
       "1  Pittsburgh   15207.0  40.406546 -79.945442  \n",
       "2  Pittsburgh   15201.0  40.406377 -79.945559  \n",
       "3  Pittsburgh   15207.0  40.406040 -79.931253  "
      ]
     },
     "execution_count": 2,
     "metadata": {},
     "output_type": "execute_result"
    }
   ],
   "source": [
    "data1 = data.drop(columns=[\"category\",\"url\",\"state\",\"country\"])\n",
    "data1.head(4)"
   ]
  },
  {
   "cell_type": "markdown",
   "metadata": {},
   "source": [
    "The columns I have removed are category, url, state and country. The category and url of each grow garden is not important in determining where the gardens are located. Also, all of the gardens are located in Pennsylvania and the US, so the state and country columns are the exact same for each garden. "
   ]
  },
  {
   "cell_type": "markdown",
   "metadata": {},
   "source": [
    "Next, I am going to load in the data of Pittsburgh neighborhoods and determine how many gardens are in each neighborhood. "
   ]
  },
  {
   "cell_type": "code",
   "execution_count": null,
   "metadata": {},
   "outputs": [],
   "source": []
  }
 ],
 "metadata": {
  "kernelspec": {
   "display_name": "Python 3",
   "language": "python",
   "name": "python3"
  },
  "language_info": {
   "codemirror_mode": {
    "name": "ipython",
    "version": 3
   },
   "file_extension": ".py",
   "mimetype": "text/x-python",
   "name": "python",
   "nbconvert_exporter": "python",
   "pygments_lexer": "ipython3",
   "version": "3.8.3"
  }
 },
 "nbformat": 4,
 "nbformat_minor": 4
}
