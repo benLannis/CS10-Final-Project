{
 "cells": [
  {
   "cell_type": "markdown",
   "metadata": {},
   "source": [
    "# Which neighborhood in Pittsburgh has the best food?"
   ]
  },
  {
   "cell_type": "markdown",
   "metadata": {},
   "source": [
    "By: The Foodies (Ben Lannis, Mason Hoydick, and Dominic Galatis)"
   ]
  },
  {
   "cell_type": "markdown",
   "metadata": {},
   "source": [
    "![farmers market](https://assets-varnish.triblive.com/2020/07/2816921_web1_ptr-liv-marketsquare-071420.jpg)"
   ]
  },
  {
   "cell_type": "markdown",
   "metadata": {},
   "source": [
    "## Introduction\n",
    "\n",
    "Food is an essential part of where you live. In particular, access to fresh, safe, and locally grown food is vital to individual and community health. Oftentimes, for instance, low income communities lack reasonable access to fresh produce and groceries for a variety of socioeconomic reasons. These neighborhood are known as \"food deserts,\" so identifying the best and worst neighborhoods in terms of access to grocery stores/supermarkets will allow us to determine which places are doing things well and where the focus and attention of future policymaking ought to lie. At the same time, access to community-based food gardens provides great access to fresh, locally-grown produce. Finally, food safety violations give us important information about the quality of prepared-food options in a community."
   ]
  },
  {
   "cell_type": "markdown",
   "metadata": {},
   "source": [
    "## The Metric\n",
    "\n",
    "For all of the reasons mentioned above, we've decided that the \"best\" neighborhood in Pittsburgh ought to be the one with the best food. Moreover, we believe that the submetrics of supermarket access, number of community \"grow gardens\", and number of food safety violations are three key indicators of overall food quality.\n",
    "\n",
    "* Ben: Supermarket access (https://data.wprdc.org/dataset/allegheny-county-supermarkets-convenience-stores). This dataset includes location information about convenience stores and supermarkets in the city of Pittsburgh.\n",
    "* Mason: Grow Pittsburgh Food Gardens (https://data.wprdc.org/dataset/grow-pittsburgh-food-gardens). This dataset includes location information about Grow Pittsburgh Food Gardens.\n",
    "* Dom: Food safety violations (https://data.wprdc.org/dataset/allegheny-county-restaurant-food-facility-inspection-violations). This dataset includes location information about food safety violations by establishment location.\n",
    "\n",
    "In the end, we'll synthesize the results of our individual analyses in order to name a single neighborhood that we believe has the best food in Pittsburgh."
   ]
  },
  {
   "cell_type": "markdown",
   "metadata": {},
   "source": [
    "## Submetric #1: Supermarket Density (by Ben Lannis)"
   ]
  },
  {
   "cell_type": "markdown",
   "metadata": {},
   "source": [
    "Our overall metric for finding the \"best\" neighborhood in Pittsburgh is determining which neighborhood has the best food, so access to groceries plays an important role. Beyond just the number of grocery/convenience stores in a neighborhood (which can be affected by land area), I'll examine the density to determine which neighborhood's residents have the most accessible groceries near where they live."
   ]
  },
  {
   "cell_type": "markdown",
   "metadata": {},
   "source": [
    "### My Sub-metric: Density of convenience stores (food deserts)"
   ]
  },
  {
   "cell_type": "markdown",
   "metadata": {},
   "source": [
    "![community mart](https://static.timesofisrael.com/jewishchronicle/uploads/2021/09/image_6487327-640x400.jpg)"
   ]
  },
  {
   "cell_type": "markdown",
   "metadata": {},
   "source": [
    "### Goal of my analysis:\n",
    "My sub-metric is density of grocery/convenience stores. Food deserts present a major challenge in low-income communities, so I want to know which neighborhoods are most/least affected by this phenomenon. Along the way, I'll determine which neighborhood has the most access to local groceries as well as which neighborhoods are overlooked (and the socioeconomic factors that explain why)."
   ]
  },
  {
   "cell_type": "markdown",
   "metadata": {},
   "source": [
    "### My Dataset\n",
    "Title: Allegheny County Supermarkets & Convenience Stores\n",
    "Description: This dataset lists the name, address, coordinates, and type (either grocery or convenience store) of food locations in Allegheny County.\n",
    "\n",
    "Link: https://data.wprdc.org/dataset/allegheny-county-supermarkets-convenience-stores"
   ]
  },
  {
   "cell_type": "markdown",
   "metadata": {},
   "source": [
    "### Data Preview:"
   ]
  },
  {
   "cell_type": "code",
   "execution_count": 38,
   "metadata": {},
   "outputs": [
    {
     "data": {
      "text/html": [
       "<div>\n",
       "<style scoped>\n",
       "    .dataframe tbody tr th:only-of-type {\n",
       "        vertical-align: middle;\n",
       "    }\n",
       "\n",
       "    .dataframe tbody tr th {\n",
       "        vertical-align: top;\n",
       "    }\n",
       "\n",
       "    .dataframe thead th {\n",
       "        text-align: right;\n",
       "    }\n",
       "</style>\n",
       "<table border=\"1\" class=\"dataframe\">\n",
       "  <thead>\n",
       "    <tr style=\"text-align: right;\">\n",
       "      <th></th>\n",
       "      <th>Client ID</th>\n",
       "      <th>Name</th>\n",
       "      <th>Legal Name</th>\n",
       "      <th>Start Date</th>\n",
       "      <th>Street #</th>\n",
       "      <th>Street Name</th>\n",
       "      <th>State</th>\n",
       "      <th>Zip</th>\n",
       "      <th>Lat</th>\n",
       "      <th>Lon</th>\n",
       "      <th>Accuracy</th>\n",
       "      <th>Category</th>\n",
       "    </tr>\n",
       "  </thead>\n",
       "  <tbody>\n",
       "    <tr>\n",
       "      <th>0</th>\n",
       "      <td>201211150002</td>\n",
       "      <td>Avalon Fuel</td>\n",
       "      <td>Avalon Fuel Company</td>\n",
       "      <td>10/26/2012</td>\n",
       "      <td>901</td>\n",
       "      <td>Ohio River Blvd</td>\n",
       "      <td>PA</td>\n",
       "      <td>15202.0</td>\n",
       "      <td>40.495759</td>\n",
       "      <td>-80.066508</td>\n",
       "      <td>9.0</td>\n",
       "      <td>Convenience Store</td>\n",
       "    </tr>\n",
       "    <tr>\n",
       "      <th>1</th>\n",
       "      <td>201511040005</td>\n",
       "      <td>Ez Energy #303/7Eleven #36183H</td>\n",
       "      <td>Neelkanth Ansh Enterprises Inc</td>\n",
       "      <td>10/26/2015</td>\n",
       "      <td>209</td>\n",
       "      <td>Ohio River Blvd</td>\n",
       "      <td>PA</td>\n",
       "      <td>15143.0</td>\n",
       "      <td>40.545418</td>\n",
       "      <td>-80.194152</td>\n",
       "      <td>9.0</td>\n",
       "      <td>Convenience Store</td>\n",
       "    </tr>\n",
       "    <tr>\n",
       "      <th>2</th>\n",
       "      <td>201212130003</td>\n",
       "      <td>EZ Energy #311 / 7 Eleven #36191H</td>\n",
       "      <td>7 Eleven Inc</td>\n",
       "      <td>12/3/2012</td>\n",
       "      <td>8136</td>\n",
       "      <td>Ohio River Blvd</td>\n",
       "      <td>PA</td>\n",
       "      <td>15202.0</td>\n",
       "      <td>40.510522</td>\n",
       "      <td>-80.094268</td>\n",
       "      <td>9.0</td>\n",
       "      <td>Convenience Store</td>\n",
       "    </tr>\n",
       "    <tr>\n",
       "      <th>3</th>\n",
       "      <td>201211190006</td>\n",
       "      <td>Getgo #3646 / Crafton - Ingram</td>\n",
       "      <td>Giant Eagle Inc</td>\n",
       "      <td>11/15/2012</td>\n",
       "      <td>280</td>\n",
       "      <td>Crafton Ingram Shopping circle</td>\n",
       "      <td>PA</td>\n",
       "      <td>15205.0</td>\n",
       "      <td>41.203322</td>\n",
       "      <td>-77.194525</td>\n",
       "      <td>3.0</td>\n",
       "      <td>Convenience Store</td>\n",
       "    </tr>\n",
       "    <tr>\n",
       "      <th>4</th>\n",
       "      <td>53583</td>\n",
       "      <td>Mt NeBlvd Texaco</td>\n",
       "      <td>Mt NeBlvd Texaco</td>\n",
       "      <td>6/2/1995</td>\n",
       "      <td>1706</td>\n",
       "      <td>Mt Nebo Rd</td>\n",
       "      <td>PA</td>\n",
       "      <td>15143.0</td>\n",
       "      <td>40.553281</td>\n",
       "      <td>-80.109158</td>\n",
       "      <td>8.0</td>\n",
       "      <td>Convenience Store</td>\n",
       "    </tr>\n",
       "  </tbody>\n",
       "</table>\n",
       "</div>"
      ],
      "text/plain": [
       "      Client ID                               Name  \\\n",
       "0  201211150002                        Avalon Fuel   \n",
       "1  201511040005     Ez Energy #303/7Eleven #36183H   \n",
       "2  201212130003  EZ Energy #311 / 7 Eleven #36191H   \n",
       "3  201211190006     Getgo #3646 / Crafton - Ingram   \n",
       "4         53583                   Mt NeBlvd Texaco   \n",
       "\n",
       "                       Legal Name  Start Date Street #  \\\n",
       "0             Avalon Fuel Company  10/26/2012      901   \n",
       "1  Neelkanth Ansh Enterprises Inc  10/26/2015      209   \n",
       "2                    7 Eleven Inc   12/3/2012     8136   \n",
       "3                 Giant Eagle Inc  11/15/2012      280   \n",
       "4                Mt NeBlvd Texaco    6/2/1995     1706   \n",
       "\n",
       "                      Street Name State      Zip        Lat        Lon  \\\n",
       "0                 Ohio River Blvd    PA  15202.0  40.495759 -80.066508   \n",
       "1                 Ohio River Blvd    PA  15143.0  40.545418 -80.194152   \n",
       "2                 Ohio River Blvd    PA  15202.0  40.510522 -80.094268   \n",
       "3  Crafton Ingram Shopping circle    PA  15205.0  41.203322 -77.194525   \n",
       "4                      Mt Nebo Rd    PA  15143.0  40.553281 -80.109158   \n",
       "\n",
       "   Accuracy           Category  \n",
       "0       9.0  Convenience Store  \n",
       "1       9.0  Convenience Store  \n",
       "2       9.0  Convenience Store  \n",
       "3       3.0  Convenience Store  \n",
       "4       8.0  Convenience Store  "
      ]
     },
     "execution_count": 38,
     "metadata": {},
     "output_type": "execute_result"
    }
   ],
   "source": [
    "import pandas as pd\n",
    "\n",
    "file_name = \"data/conveniencesupermarket.csv\"\n",
    "data = pd.read_csv(file_name)\n",
    "data.head()"
   ]
  },
  {
   "cell_type": "markdown",
   "metadata": {},
   "source": [
    "### The Best Neighborhood (In terms of my sub-metric)"
   ]
  },
  {
   "cell_type": "markdown",
   "metadata": {},
   "source": [
    "First, let's simply the above dataset to only include the columns we care about. Namely, we want our simplified dataset to include longitude, latitude, and category (since the specific names aren't as important)."
   ]
  },
  {
   "cell_type": "code",
   "execution_count": 39,
   "metadata": {},
   "outputs": [
    {
     "data": {
      "text/html": [
       "<div>\n",
       "<style scoped>\n",
       "    .dataframe tbody tr th:only-of-type {\n",
       "        vertical-align: middle;\n",
       "    }\n",
       "\n",
       "    .dataframe tbody tr th {\n",
       "        vertical-align: top;\n",
       "    }\n",
       "\n",
       "    .dataframe thead th {\n",
       "        text-align: right;\n",
       "    }\n",
       "</style>\n",
       "<table border=\"1\" class=\"dataframe\">\n",
       "  <thead>\n",
       "    <tr style=\"text-align: right;\">\n",
       "      <th></th>\n",
       "      <th>Lat</th>\n",
       "      <th>Lon</th>\n",
       "      <th>Category</th>\n",
       "    </tr>\n",
       "  </thead>\n",
       "  <tbody>\n",
       "    <tr>\n",
       "      <th>0</th>\n",
       "      <td>40.495759</td>\n",
       "      <td>-80.066508</td>\n",
       "      <td>Convenience Store</td>\n",
       "    </tr>\n",
       "    <tr>\n",
       "      <th>1</th>\n",
       "      <td>40.545418</td>\n",
       "      <td>-80.194152</td>\n",
       "      <td>Convenience Store</td>\n",
       "    </tr>\n",
       "    <tr>\n",
       "      <th>2</th>\n",
       "      <td>40.510522</td>\n",
       "      <td>-80.094268</td>\n",
       "      <td>Convenience Store</td>\n",
       "    </tr>\n",
       "    <tr>\n",
       "      <th>3</th>\n",
       "      <td>41.203322</td>\n",
       "      <td>-77.194525</td>\n",
       "      <td>Convenience Store</td>\n",
       "    </tr>\n",
       "    <tr>\n",
       "      <th>4</th>\n",
       "      <td>40.553281</td>\n",
       "      <td>-80.109158</td>\n",
       "      <td>Convenience Store</td>\n",
       "    </tr>\n",
       "    <tr>\n",
       "      <th>5</th>\n",
       "      <td>40.367923</td>\n",
       "      <td>-79.780429</td>\n",
       "      <td>Convenience Store</td>\n",
       "    </tr>\n",
       "    <tr>\n",
       "      <th>6</th>\n",
       "      <td>40.494177</td>\n",
       "      <td>-80.267208</td>\n",
       "      <td>Convenience Store</td>\n",
       "    </tr>\n",
       "    <tr>\n",
       "      <th>7</th>\n",
       "      <td>40.370214</td>\n",
       "      <td>-79.913195</td>\n",
       "      <td>Convenience Store</td>\n",
       "    </tr>\n",
       "    <tr>\n",
       "      <th>8</th>\n",
       "      <td>40.440641</td>\n",
       "      <td>-80.149132</td>\n",
       "      <td>Convenience Store</td>\n",
       "    </tr>\n",
       "    <tr>\n",
       "      <th>9</th>\n",
       "      <td>40.529076</td>\n",
       "      <td>-80.025577</td>\n",
       "      <td>Convenience Store</td>\n",
       "    </tr>\n",
       "  </tbody>\n",
       "</table>\n",
       "</div>"
      ],
      "text/plain": [
       "         Lat        Lon           Category\n",
       "0  40.495759 -80.066508  Convenience Store\n",
       "1  40.545418 -80.194152  Convenience Store\n",
       "2  40.510522 -80.094268  Convenience Store\n",
       "3  41.203322 -77.194525  Convenience Store\n",
       "4  40.553281 -80.109158  Convenience Store\n",
       "5  40.367923 -79.780429  Convenience Store\n",
       "6  40.494177 -80.267208  Convenience Store\n",
       "7  40.370214 -79.913195  Convenience Store\n",
       "8  40.440641 -80.149132  Convenience Store\n",
       "9  40.529076 -80.025577  Convenience Store"
      ]
     },
     "execution_count": 39,
     "metadata": {},
     "output_type": "execute_result"
    }
   ],
   "source": [
    "# Gets certain columns for larger dataset\n",
    "simpData = data[['Lat', 'Lon', 'Category']]\n",
    "simpData.head(10)"
   ]
  },
  {
   "cell_type": "markdown",
   "metadata": {},
   "source": [
    "Now we want to count the number of convenience/grocery stores in each neighborhood. To do so, we'll need to import the geometric data that describes neighborhood shape/location using geopandas:"
   ]
  },
  {
   "cell_type": "code",
   "execution_count": 40,
   "metadata": {},
   "outputs": [
    {
     "data": {
      "text/html": [
       "<div>\n",
       "<style scoped>\n",
       "    .dataframe tbody tr th:only-of-type {\n",
       "        vertical-align: middle;\n",
       "    }\n",
       "\n",
       "    .dataframe tbody tr th {\n",
       "        vertical-align: top;\n",
       "    }\n",
       "\n",
       "    .dataframe thead th {\n",
       "        text-align: right;\n",
       "    }\n",
       "</style>\n",
       "<table border=\"1\" class=\"dataframe\">\n",
       "  <thead>\n",
       "    <tr style=\"text-align: right;\">\n",
       "      <th></th>\n",
       "      <th>objectid</th>\n",
       "      <th>fid_blockg</th>\n",
       "      <th>statefp10</th>\n",
       "      <th>countyfp10</th>\n",
       "      <th>tractce10</th>\n",
       "      <th>blkgrpce10</th>\n",
       "      <th>geoid10</th>\n",
       "      <th>namelsad10</th>\n",
       "      <th>mtfcc10</th>\n",
       "      <th>funcstat10</th>\n",
       "      <th>...</th>\n",
       "      <th>shape_ar_1</th>\n",
       "      <th>page_numbe</th>\n",
       "      <th>plannerass</th>\n",
       "      <th>created_us</th>\n",
       "      <th>created_da</th>\n",
       "      <th>last_edite</th>\n",
       "      <th>last_edi_1</th>\n",
       "      <th>Shape__Are</th>\n",
       "      <th>Shape__Len</th>\n",
       "      <th>geometry</th>\n",
       "    </tr>\n",
       "  </thead>\n",
       "  <tbody>\n",
       "    <tr>\n",
       "      <th>0</th>\n",
       "      <td>1</td>\n",
       "      <td>0.0</td>\n",
       "      <td>42</td>\n",
       "      <td>003</td>\n",
       "      <td>040500</td>\n",
       "      <td>1</td>\n",
       "      <td>420030405001</td>\n",
       "      <td>Block Group 1</td>\n",
       "      <td>G5030</td>\n",
       "      <td>S</td>\n",
       "      <td>...</td>\n",
       "      <td>7.843108e+06</td>\n",
       "      <td>15</td>\n",
       "      <td>Derek Dauphin</td>\n",
       "      <td>pgh.admin</td>\n",
       "      <td>2019-10-23T14:17:16.403Z</td>\n",
       "      <td>pgh.admin</td>\n",
       "      <td>2019-10-23T14:17:16.403Z</td>\n",
       "      <td>7.842997e+06</td>\n",
       "      <td>11525.904546</td>\n",
       "      <td>POLYGON ((-79.95304 40.44203, -79.95302 40.442...</td>\n",
       "    </tr>\n",
       "    <tr>\n",
       "      <th>1</th>\n",
       "      <td>2</td>\n",
       "      <td>1.0</td>\n",
       "      <td>42</td>\n",
       "      <td>003</td>\n",
       "      <td>040400</td>\n",
       "      <td>1</td>\n",
       "      <td>420030404001</td>\n",
       "      <td>Block Group 1</td>\n",
       "      <td>G5030</td>\n",
       "      <td>S</td>\n",
       "      <td>...</td>\n",
       "      <td>1.390463e+07</td>\n",
       "      <td>15</td>\n",
       "      <td>Derek Dauphin</td>\n",
       "      <td>pgh.admin</td>\n",
       "      <td>2019-10-23T14:17:16.403Z</td>\n",
       "      <td>pgh.admin</td>\n",
       "      <td>2019-10-23T14:17:16.403Z</td>\n",
       "      <td>1.390469e+07</td>\n",
       "      <td>20945.562570</td>\n",
       "      <td>POLYGON ((-79.95455 40.45882, -79.95427 40.458...</td>\n",
       "    </tr>\n",
       "  </tbody>\n",
       "</table>\n",
       "<p>2 rows × 38 columns</p>\n",
       "</div>"
      ],
      "text/plain": [
       "   objectid  fid_blockg statefp10 countyfp10 tractce10 blkgrpce10  \\\n",
       "0         1         0.0        42        003    040500          1   \n",
       "1         2         1.0        42        003    040400          1   \n",
       "\n",
       "        geoid10     namelsad10 mtfcc10 funcstat10  ...    shape_ar_1  \\\n",
       "0  420030405001  Block Group 1   G5030          S  ...  7.843108e+06   \n",
       "1  420030404001  Block Group 1   G5030          S  ...  1.390463e+07   \n",
       "\n",
       "   page_numbe     plannerass created_us                created_da  last_edite  \\\n",
       "0          15  Derek Dauphin  pgh.admin  2019-10-23T14:17:16.403Z   pgh.admin   \n",
       "1          15  Derek Dauphin  pgh.admin  2019-10-23T14:17:16.403Z   pgh.admin   \n",
       "\n",
       "                 last_edi_1    Shape__Are    Shape__Len  \\\n",
       "0  2019-10-23T14:17:16.403Z  7.842997e+06  11525.904546   \n",
       "1  2019-10-23T14:17:16.403Z  1.390469e+07  20945.562570   \n",
       "\n",
       "                                            geometry  \n",
       "0  POLYGON ((-79.95304 40.44203, -79.95302 40.442...  \n",
       "1  POLYGON ((-79.95455 40.45882, -79.95427 40.458...  \n",
       "\n",
       "[2 rows x 38 columns]"
      ]
     },
     "execution_count": 40,
     "metadata": {},
     "output_type": "execute_result"
    }
   ],
   "source": [
    "import geopandas as gpd\n",
    "\n",
    "# Imports neighborhood shape data\n",
    "neighborhoods = gpd.read_file(\"data/Neighborhoods/Neighborhoods_.shp\") # read in the shapefile\n",
    "neighborhoods.head(2)"
   ]
  },
  {
   "cell_type": "markdown",
   "metadata": {},
   "source": [
    "Let's simplify this dataset so we're able to count the number of grocery/convenience stores in each neighborhood:"
   ]
  },
  {
   "cell_type": "code",
   "execution_count": 41,
   "metadata": {},
   "outputs": [
    {
     "data": {
      "text/html": [
       "<div>\n",
       "<style scoped>\n",
       "    .dataframe tbody tr th:only-of-type {\n",
       "        vertical-align: middle;\n",
       "    }\n",
       "\n",
       "    .dataframe tbody tr th {\n",
       "        vertical-align: top;\n",
       "    }\n",
       "\n",
       "    .dataframe thead th {\n",
       "        text-align: right;\n",
       "    }\n",
       "</style>\n",
       "<table border=\"1\" class=\"dataframe\">\n",
       "  <thead>\n",
       "    <tr style=\"text-align: right;\">\n",
       "      <th></th>\n",
       "      <th>Neighborhood</th>\n",
       "      <th>Shape</th>\n",
       "      <th>Area</th>\n",
       "      <th>ConvenienceCount</th>\n",
       "      <th>GroceryCount</th>\n",
       "    </tr>\n",
       "  </thead>\n",
       "  <tbody>\n",
       "    <tr>\n",
       "      <th>0</th>\n",
       "      <td>Central Oakland</td>\n",
       "      <td>POLYGON ((-79.95304 40.44203, -79.95302 40.442...</td>\n",
       "      <td>7.734486</td>\n",
       "      <td>0</td>\n",
       "      <td>0</td>\n",
       "    </tr>\n",
       "    <tr>\n",
       "      <th>1</th>\n",
       "      <td>North Oakland</td>\n",
       "      <td>POLYGON ((-79.95455 40.45882, -79.95427 40.458...</td>\n",
       "      <td>13.714255</td>\n",
       "      <td>0</td>\n",
       "      <td>0</td>\n",
       "    </tr>\n",
       "    <tr>\n",
       "      <th>2</th>\n",
       "      <td>West Oakland</td>\n",
       "      <td>POLYGON ((-79.96230 40.44294, -79.96220 40.442...</td>\n",
       "      <td>5.915794</td>\n",
       "      <td>0</td>\n",
       "      <td>0</td>\n",
       "    </tr>\n",
       "    <tr>\n",
       "      <th>3</th>\n",
       "      <td>Crawford-Roberts</td>\n",
       "      <td>POLYGON ((-79.98275 40.44641, -79.98273 40.446...</td>\n",
       "      <td>7.104107</td>\n",
       "      <td>0</td>\n",
       "      <td>0</td>\n",
       "    </tr>\n",
       "    <tr>\n",
       "      <th>4</th>\n",
       "      <td>Strip District</td>\n",
       "      <td>POLYGON ((-79.97494 40.45629, -79.97484 40.456...</td>\n",
       "      <td>16.717981</td>\n",
       "      <td>0</td>\n",
       "      <td>0</td>\n",
       "    </tr>\n",
       "  </tbody>\n",
       "</table>\n",
       "</div>"
      ],
      "text/plain": [
       "       Neighborhood                                              Shape  \\\n",
       "0   Central Oakland  POLYGON ((-79.95304 40.44203, -79.95302 40.442...   \n",
       "1     North Oakland  POLYGON ((-79.95455 40.45882, -79.95427 40.458...   \n",
       "2      West Oakland  POLYGON ((-79.96230 40.44294, -79.96220 40.442...   \n",
       "3  Crawford-Roberts  POLYGON ((-79.98275 40.44641, -79.98273 40.446...   \n",
       "4    Strip District  POLYGON ((-79.97494 40.45629, -79.97484 40.456...   \n",
       "\n",
       "        Area  ConvenienceCount  GroceryCount  \n",
       "0   7.734486                 0             0  \n",
       "1  13.714255                 0             0  \n",
       "2   5.915794                 0             0  \n",
       "3   7.104107                 0             0  \n",
       "4  16.717981                 0             0  "
      ]
     },
     "execution_count": 41,
     "metadata": {},
     "output_type": "execute_result"
    }
   ],
   "source": [
    "# Define new dataset for counting\n",
    "numEach = pd.DataFrame(columns = ['Neighborhood', 'Shape', 'Area', 'ConvenienceCount', 'GroceryCount'])\n",
    "\n",
    "numEach[\"Neighborhood\"] = neighborhoods[\"hood\"]\n",
    "numEach[\"Shape\"] = neighborhoods[\"geometry\"]\n",
    "numEach[\"Area\"] = 0\n",
    "numEach[\"ConvenienceCount\"] = 0\n",
    "numEach[\"GroceryCount\"] = 0\n",
    "\n",
    "for i, hood in numEach.iterrows():\n",
    "    numEach.at[i, \"Area\"] = numEach.at[i, \"Shape\"].area * 100000\n",
    "\n",
    "numEach.head()"
   ]
  },
  {
   "cell_type": "markdown",
   "metadata": {},
   "source": [
    "Although the Shapley.area method doesn't return the area in a useful unit like m^2 or km^2, it still preserves the ratios between areas, so we multiply by a large constant to make the area values feel more natural."
   ]
  },
  {
   "cell_type": "markdown",
   "metadata": {},
   "source": [
    "We want to combine the information from our simpData (convenience/grocery store location info) and numEach (neighborhood name and geometric info) datsets. To do this, we'll use the ``Polygon.contains(Point)`` method since our geometric neighborhood data uses Polygon objects."
   ]
  },
  {
   "cell_type": "code",
   "execution_count": 42,
   "metadata": {},
   "outputs": [
    {
     "data": {
      "text/html": [
       "<div>\n",
       "<style scoped>\n",
       "    .dataframe tbody tr th:only-of-type {\n",
       "        vertical-align: middle;\n",
       "    }\n",
       "\n",
       "    .dataframe tbody tr th {\n",
       "        vertical-align: top;\n",
       "    }\n",
       "\n",
       "    .dataframe thead th {\n",
       "        text-align: right;\n",
       "    }\n",
       "</style>\n",
       "<table border=\"1\" class=\"dataframe\">\n",
       "  <thead>\n",
       "    <tr style=\"text-align: right;\">\n",
       "      <th></th>\n",
       "      <th>Neighborhood</th>\n",
       "      <th>Shape</th>\n",
       "      <th>Area</th>\n",
       "      <th>ConvenienceCount</th>\n",
       "      <th>GroceryCount</th>\n",
       "    </tr>\n",
       "  </thead>\n",
       "  <tbody>\n",
       "    <tr>\n",
       "      <th>0</th>\n",
       "      <td>Central Oakland</td>\n",
       "      <td>POLYGON ((-79.95304 40.44203, -79.95302 40.442...</td>\n",
       "      <td>7.734486</td>\n",
       "      <td>5</td>\n",
       "      <td>1</td>\n",
       "    </tr>\n",
       "    <tr>\n",
       "      <th>1</th>\n",
       "      <td>North Oakland</td>\n",
       "      <td>POLYGON ((-79.95455 40.45882, -79.95427 40.458...</td>\n",
       "      <td>13.714255</td>\n",
       "      <td>4</td>\n",
       "      <td>1</td>\n",
       "    </tr>\n",
       "    <tr>\n",
       "      <th>2</th>\n",
       "      <td>West Oakland</td>\n",
       "      <td>POLYGON ((-79.96230 40.44294, -79.96220 40.442...</td>\n",
       "      <td>5.915794</td>\n",
       "      <td>1</td>\n",
       "      <td>0</td>\n",
       "    </tr>\n",
       "    <tr>\n",
       "      <th>3</th>\n",
       "      <td>Crawford-Roberts</td>\n",
       "      <td>POLYGON ((-79.98275 40.44641, -79.98273 40.446...</td>\n",
       "      <td>7.104107</td>\n",
       "      <td>3</td>\n",
       "      <td>1</td>\n",
       "    </tr>\n",
       "    <tr>\n",
       "      <th>4</th>\n",
       "      <td>Strip District</td>\n",
       "      <td>POLYGON ((-79.97494 40.45629, -79.97484 40.456...</td>\n",
       "      <td>16.717981</td>\n",
       "      <td>5</td>\n",
       "      <td>4</td>\n",
       "    </tr>\n",
       "  </tbody>\n",
       "</table>\n",
       "</div>"
      ],
      "text/plain": [
       "       Neighborhood                                              Shape  \\\n",
       "0   Central Oakland  POLYGON ((-79.95304 40.44203, -79.95302 40.442...   \n",
       "1     North Oakland  POLYGON ((-79.95455 40.45882, -79.95427 40.458...   \n",
       "2      West Oakland  POLYGON ((-79.96230 40.44294, -79.96220 40.442...   \n",
       "3  Crawford-Roberts  POLYGON ((-79.98275 40.44641, -79.98273 40.446...   \n",
       "4    Strip District  POLYGON ((-79.97494 40.45629, -79.97484 40.456...   \n",
       "\n",
       "        Area  ConvenienceCount  GroceryCount  \n",
       "0   7.734486                 5             1  \n",
       "1  13.714255                 4             1  \n",
       "2   5.915794                 1             0  \n",
       "3   7.104107                 3             1  \n",
       "4  16.717981                 5             4  "
      ]
     },
     "execution_count": 42,
     "metadata": {},
     "output_type": "execute_result"
    }
   ],
   "source": [
    "# Import the Point class so we can make use of Longitude and Latitude data from our simpData dataset:\n",
    "from shapely.geometry import Point\n",
    "\n",
    "for i, store in simpData.iterrows():\n",
    "    # Store the longitude and latitude data in a Point Object\n",
    "    pt = Point(store[\"Lon\"], store[\"Lat\"])\n",
    "    \n",
    "    # Now iterate through numEach dataset and increment counter accordingly\n",
    "    for j, hood in numEach.iterrows():\n",
    "        if hood[\"Shape\"].contains(pt):\n",
    "            if store[\"Category\"] == \"Convenience Store\":\n",
    "                numEach.at[j, 'ConvenienceCount'] = numEach.at[j, 'ConvenienceCount'] + 1\n",
    "            elif store[\"Category\"] == \"Supermarket\":\n",
    "                numEach.at[j, 'GroceryCount'] = numEach.at[j, 'GroceryCount'] + 1\n",
    "                \n",
    "numEach.head()"
   ]
  },
  {
   "cell_type": "markdown",
   "metadata": {},
   "source": [
    "All that's left is to divide the convenience/grocery store counts by the neighborhood area and do a final ordering in order to determine the neighborhood with the best density of each:"
   ]
  },
  {
   "cell_type": "code",
   "execution_count": 43,
   "metadata": {},
   "outputs": [
    {
     "data": {
      "text/html": [
       "<div>\n",
       "<style scoped>\n",
       "    .dataframe tbody tr th:only-of-type {\n",
       "        vertical-align: middle;\n",
       "    }\n",
       "\n",
       "    .dataframe tbody tr th {\n",
       "        vertical-align: top;\n",
       "    }\n",
       "\n",
       "    .dataframe thead th {\n",
       "        text-align: right;\n",
       "    }\n",
       "</style>\n",
       "<table border=\"1\" class=\"dataframe\">\n",
       "  <thead>\n",
       "    <tr style=\"text-align: right;\">\n",
       "      <th></th>\n",
       "      <th>Neighborhood</th>\n",
       "      <th>Shape</th>\n",
       "      <th>Area</th>\n",
       "      <th>Convenience Density</th>\n",
       "      <th>Grocery Density</th>\n",
       "    </tr>\n",
       "  </thead>\n",
       "  <tbody>\n",
       "    <tr>\n",
       "      <th>0</th>\n",
       "      <td>Central Oakland</td>\n",
       "      <td>POLYGON ((-79.95304 40.44203, -79.95302 40.442...</td>\n",
       "      <td>7.734486</td>\n",
       "      <td>0.646455</td>\n",
       "      <td>0.129291</td>\n",
       "    </tr>\n",
       "    <tr>\n",
       "      <th>1</th>\n",
       "      <td>North Oakland</td>\n",
       "      <td>POLYGON ((-79.95455 40.45882, -79.95427 40.458...</td>\n",
       "      <td>13.714255</td>\n",
       "      <td>0.291667</td>\n",
       "      <td>0.072917</td>\n",
       "    </tr>\n",
       "    <tr>\n",
       "      <th>2</th>\n",
       "      <td>West Oakland</td>\n",
       "      <td>POLYGON ((-79.96230 40.44294, -79.96220 40.442...</td>\n",
       "      <td>5.915794</td>\n",
       "      <td>0.169039</td>\n",
       "      <td>0.000000</td>\n",
       "    </tr>\n",
       "    <tr>\n",
       "      <th>3</th>\n",
       "      <td>Crawford-Roberts</td>\n",
       "      <td>POLYGON ((-79.98275 40.44641, -79.98273 40.446...</td>\n",
       "      <td>7.104107</td>\n",
       "      <td>0.422291</td>\n",
       "      <td>0.140764</td>\n",
       "    </tr>\n",
       "    <tr>\n",
       "      <th>4</th>\n",
       "      <td>Strip District</td>\n",
       "      <td>POLYGON ((-79.97494 40.45629, -79.97484 40.456...</td>\n",
       "      <td>16.717981</td>\n",
       "      <td>0.299079</td>\n",
       "      <td>0.239263</td>\n",
       "    </tr>\n",
       "  </tbody>\n",
       "</table>\n",
       "</div>"
      ],
      "text/plain": [
       "       Neighborhood                                              Shape  \\\n",
       "0   Central Oakland  POLYGON ((-79.95304 40.44203, -79.95302 40.442...   \n",
       "1     North Oakland  POLYGON ((-79.95455 40.45882, -79.95427 40.458...   \n",
       "2      West Oakland  POLYGON ((-79.96230 40.44294, -79.96220 40.442...   \n",
       "3  Crawford-Roberts  POLYGON ((-79.98275 40.44641, -79.98273 40.446...   \n",
       "4    Strip District  POLYGON ((-79.97494 40.45629, -79.97484 40.456...   \n",
       "\n",
       "        Area  Convenience Density  Grocery Density  \n",
       "0   7.734486             0.646455         0.129291  \n",
       "1  13.714255             0.291667         0.072917  \n",
       "2   5.915794             0.169039         0.000000  \n",
       "3   7.104107             0.422291         0.140764  \n",
       "4  16.717981             0.299079         0.239263  "
      ]
     },
     "execution_count": 43,
     "metadata": {},
     "output_type": "execute_result"
    }
   ],
   "source": [
    "for i, neighborhood in numEach.iterrows():\n",
    "    numEach.at[i, \"ConvenienceCount\"] = numEach.at[i, \"ConvenienceCount\"] / numEach.at[i, \"Area\"]\n",
    "    numEach.at[i, \"GroceryCount\"] = numEach.at[i, \"GroceryCount\"] / numEach.at[i, \"Area\"]\n",
    "    \n",
    "numEach.columns = ['Neighborhood', 'Shape', 'Area', 'Convenience Density', 'Grocery Density']\n",
    "    \n",
    "numEach.head()"
   ]
  },
  {
   "cell_type": "markdown",
   "metadata": {},
   "source": [
    "We want to separately consider the orderings of neighborhoods based on number of convenience stores and grocery stores respectively:"
   ]
  },
  {
   "cell_type": "code",
   "execution_count": 44,
   "metadata": {},
   "outputs": [
    {
     "data": {
      "text/html": [
       "<div>\n",
       "<style scoped>\n",
       "    .dataframe tbody tr th:only-of-type {\n",
       "        vertical-align: middle;\n",
       "    }\n",
       "\n",
       "    .dataframe tbody tr th {\n",
       "        vertical-align: top;\n",
       "    }\n",
       "\n",
       "    .dataframe thead th {\n",
       "        text-align: right;\n",
       "    }\n",
       "</style>\n",
       "<table border=\"1\" class=\"dataframe\">\n",
       "  <thead>\n",
       "    <tr style=\"text-align: right;\">\n",
       "      <th></th>\n",
       "      <th>Neighborhood</th>\n",
       "      <th>Shape</th>\n",
       "      <th>Area</th>\n",
       "      <th>Convenience Density</th>\n",
       "      <th>Grocery Density</th>\n",
       "    </tr>\n",
       "  </thead>\n",
       "  <tbody>\n",
       "    <tr>\n",
       "      <th>5</th>\n",
       "      <td>Central Business District</td>\n",
       "      <td>POLYGON ((-79.99238 40.44484, -79.99233 40.444...</td>\n",
       "      <td>17.599559</td>\n",
       "      <td>0.965933</td>\n",
       "      <td>0.000000</td>\n",
       "    </tr>\n",
       "    <tr>\n",
       "      <th>0</th>\n",
       "      <td>Central Oakland</td>\n",
       "      <td>POLYGON ((-79.95304 40.44203, -79.95302 40.442...</td>\n",
       "      <td>7.734486</td>\n",
       "      <td>0.646455</td>\n",
       "      <td>0.129291</td>\n",
       "    </tr>\n",
       "    <tr>\n",
       "      <th>28</th>\n",
       "      <td>East Allegheny</td>\n",
       "      <td>POLYGON ((-79.99488 40.45930, -79.99521 40.458...</td>\n",
       "      <td>6.490905</td>\n",
       "      <td>0.462185</td>\n",
       "      <td>0.154062</td>\n",
       "    </tr>\n",
       "    <tr>\n",
       "      <th>16</th>\n",
       "      <td>Bluff</td>\n",
       "      <td>POLYGON ((-79.99390 40.43893, -79.99381 40.438...</td>\n",
       "      <td>9.000523</td>\n",
       "      <td>0.444419</td>\n",
       "      <td>0.000000</td>\n",
       "    </tr>\n",
       "    <tr>\n",
       "      <th>3</th>\n",
       "      <td>Crawford-Roberts</td>\n",
       "      <td>POLYGON ((-79.98275 40.44641, -79.98273 40.446...</td>\n",
       "      <td>7.104107</td>\n",
       "      <td>0.422291</td>\n",
       "      <td>0.140764</td>\n",
       "    </tr>\n",
       "  </tbody>\n",
       "</table>\n",
       "</div>"
      ],
      "text/plain": [
       "                 Neighborhood  \\\n",
       "5   Central Business District   \n",
       "0             Central Oakland   \n",
       "28             East Allegheny   \n",
       "16                      Bluff   \n",
       "3            Crawford-Roberts   \n",
       "\n",
       "                                                Shape       Area  \\\n",
       "5   POLYGON ((-79.99238 40.44484, -79.99233 40.444...  17.599559   \n",
       "0   POLYGON ((-79.95304 40.44203, -79.95302 40.442...   7.734486   \n",
       "28  POLYGON ((-79.99488 40.45930, -79.99521 40.458...   6.490905   \n",
       "16  POLYGON ((-79.99390 40.43893, -79.99381 40.438...   9.000523   \n",
       "3   POLYGON ((-79.98275 40.44641, -79.98273 40.446...   7.104107   \n",
       "\n",
       "    Convenience Density  Grocery Density  \n",
       "5              0.965933         0.000000  \n",
       "0              0.646455         0.129291  \n",
       "28             0.462185         0.154062  \n",
       "16             0.444419         0.000000  \n",
       "3              0.422291         0.140764  "
      ]
     },
     "execution_count": 44,
     "metadata": {},
     "output_type": "execute_result"
    }
   ],
   "source": [
    "convenience_sorted = numEach.sort_values(\"Convenience Density\", ascending=False)\n",
    "grocery_sorted = numEach.sort_values(\"Grocery Density\", ascending=False)\n",
    "\n",
    "convenience_sorted.head()"
   ]
  },
  {
   "cell_type": "markdown",
   "metadata": {},
   "source": [
    "Here is some simple visualization of the results using bar graphs:"
   ]
  },
  {
   "cell_type": "code",
   "execution_count": 45,
   "metadata": {},
   "outputs": [
    {
     "data": {
      "text/plain": [
       "<matplotlib.axes._subplots.AxesSubplot at 0x7f4dd77dd9a0>"
      ]
     },
     "execution_count": 45,
     "metadata": {},
     "output_type": "execute_result"
    },
    {
     "data": {
      "image/png": "[encoded data removed]",
      "text/plain": [
       "<Figure size 432x288 with 1 Axes>"
      ]
     },
     "metadata": {
      "needs_background": "light"
     },
     "output_type": "display_data"
    }
   ],
   "source": [
    "topConvenience = convenience_sorted[0:10]\n",
    "topConvenience.plot.bar(\"Neighborhood\", \"Convenience Density\")"
   ]
  },
  {
   "cell_type": "code",
   "execution_count": 46,
   "metadata": {},
   "outputs": [
    {
     "data": {
      "text/plain": [
       "<matplotlib.axes._subplots.AxesSubplot at 0x7f4dde7b93a0>"
      ]
     },
     "execution_count": 46,
     "metadata": {},
     "output_type": "execute_result"
    },
    {
     "data": {
      "image/png": "[encoded data removed]",
      "text/plain": [
       "<Figure size 432x288 with 1 Axes>"
      ]
     },
     "metadata": {
      "needs_background": "light"
     },
     "output_type": "display_data"
    }
   ],
   "source": [
    "topGrocery = grocery_sorted[0:10]\n",
    "topGrocery.plot.bar(\"Neighborhood\", \"Grocery Density\")"
   ]
  },
  {
   "cell_type": "markdown",
   "metadata": {},
   "source": [
    "Finally, let's use a different kind of visualization:"
   ]
  },
  {
   "cell_type": "code",
   "execution_count": 47,
   "metadata": {},
   "outputs": [
    {
     "data": {
      "text/plain": [
       "<matplotlib.axes._subplots.AxesSubplot at 0x7f4dde7cb1f0>"
      ]
     },
     "execution_count": 47,
     "metadata": {},
     "output_type": "execute_result"
    },
    {
     "data": {
      "image/png": "[encoded data removed]",
      "text/plain": [
       "<Figure size 1080x720 with 2 Axes>"
      ]
     },
     "metadata": {
      "needs_background": "light"
     },
     "output_type": "display_data"
    }
   ],
   "source": [
    "neighborhoods = gpd.read_file(\"data/Neighborhoods/Neighborhoods_.shp\") # read in the shapefile\n",
    "neighborhoods = neighborhoods[[\"hood\", \"geometry\"]]\n",
    "\n",
    "neighborhoods[\"Grocery Density\"] = 0\n",
    "for i, row in neighborhoods.iterrows():\n",
    "    if neighborhoods.at[i, \"hood\"] == numEach.at[i, \"Neighborhood\"]:\n",
    "        neighborhoods.at[i, \"Grocery Density\"] = numEach.at[i, \"Grocery Density\"]\n",
    "\n",
    "neighborhoods.plot(column=\"Grocery Density\", legend=True, figsize=(15, 10), cmap='OrRd')"
   ]
  },
  {
   "cell_type": "markdown",
   "metadata": {},
   "source": [
    "### Submetric #1: Conclusion/Results\n",
    "The above graph shows the results of my analysis. In particular, we're going to use grocery store/supermarket density (rather than convenience store density) in comparsion with our other sub-metrics in order to determine the best neighborhood in Pittsburgh. The reason for this decision is that supermarket density is most directly related to access to fresh food/produce whereas convenience store density doesn't carry the same significance. In fact, the neighborhoods that we might consider to be 'food deserts' may very well have a high convenience store density. What makes then food deserts is the lack of fresh food/produce within a reasonable distance, not a lack of convenience stores to buy scratch-off tickets."
   ]
  },
  {
   "cell_type": "markdown",
   "metadata": {},
   "source": [
    "### A brief detour"
   ]
  },
  {
   "cell_type": "markdown",
   "metadata": {},
   "source": [
    "In addition to the neighborhood with the best access to fresh food, we also want to consider the neighborhoods with the least access:"
   ]
  },
  {
   "cell_type": "code",
   "execution_count": 48,
   "metadata": {},
   "outputs": [
    {
     "data": {
      "text/html": [
       "<div>\n",
       "<style scoped>\n",
       "    .dataframe tbody tr th:only-of-type {\n",
       "        vertical-align: middle;\n",
       "    }\n",
       "\n",
       "    .dataframe tbody tr th {\n",
       "        vertical-align: top;\n",
       "    }\n",
       "\n",
       "    .dataframe thead th {\n",
       "        text-align: right;\n",
       "    }\n",
       "</style>\n",
       "<table border=\"1\" class=\"dataframe\">\n",
       "  <thead>\n",
       "    <tr style=\"text-align: right;\">\n",
       "      <th></th>\n",
       "      <th>Neighborhood</th>\n",
       "      <th>Shape</th>\n",
       "      <th>Area</th>\n",
       "      <th>Convenience Density</th>\n",
       "      <th>Grocery Density</th>\n",
       "    </tr>\n",
       "  </thead>\n",
       "  <tbody>\n",
       "    <tr>\n",
       "      <th>44</th>\n",
       "      <td>North Shore</td>\n",
       "      <td>POLYGON ((-79.99508 40.45000, -79.99535 40.449...</td>\n",
       "      <td>8.348234</td>\n",
       "      <td>0.000000</td>\n",
       "      <td>0.0</td>\n",
       "    </tr>\n",
       "    <tr>\n",
       "      <th>62</th>\n",
       "      <td>Chateau</td>\n",
       "      <td>POLYGON ((-80.02999 40.45909, -80.02989 40.458...</td>\n",
       "      <td>10.542279</td>\n",
       "      <td>0.094856</td>\n",
       "      <td>0.0</td>\n",
       "    </tr>\n",
       "    <tr>\n",
       "      <th>61</th>\n",
       "      <td>Polish Hill</td>\n",
       "      <td>POLYGON ((-79.96779 40.46085, -79.96716 40.460...</td>\n",
       "      <td>7.001632</td>\n",
       "      <td>0.142824</td>\n",
       "      <td>0.0</td>\n",
       "    </tr>\n",
       "    <tr>\n",
       "      <th>60</th>\n",
       "      <td>Crafton Heights</td>\n",
       "      <td>POLYGON ((-80.04222 40.44447, -80.04241 40.444...</td>\n",
       "      <td>20.641120</td>\n",
       "      <td>0.000000</td>\n",
       "      <td>0.0</td>\n",
       "    </tr>\n",
       "    <tr>\n",
       "      <th>59</th>\n",
       "      <td>Brighton Heights</td>\n",
       "      <td>POLYGON ((-80.04078 40.49142, -80.03756 40.490...</td>\n",
       "      <td>30.736530</td>\n",
       "      <td>0.000000</td>\n",
       "      <td>0.0</td>\n",
       "    </tr>\n",
       "    <tr>\n",
       "      <th>58</th>\n",
       "      <td>Allegheny Center</td>\n",
       "      <td>POLYGON ((-80.00149 40.45270, -80.00146 40.452...</td>\n",
       "      <td>5.752002</td>\n",
       "      <td>0.000000</td>\n",
       "      <td>0.0</td>\n",
       "    </tr>\n",
       "    <tr>\n",
       "      <th>57</th>\n",
       "      <td>Knoxville</td>\n",
       "      <td>POLYGON ((-79.98806 40.41592, -79.98797 40.414...</td>\n",
       "      <td>8.290178</td>\n",
       "      <td>0.241249</td>\n",
       "      <td>0.0</td>\n",
       "    </tr>\n",
       "    <tr>\n",
       "      <th>55</th>\n",
       "      <td>Elliott</td>\n",
       "      <td>POLYGON ((-80.02795 40.44463, -80.02806 40.444...</td>\n",
       "      <td>16.673954</td>\n",
       "      <td>0.059974</td>\n",
       "      <td>0.0</td>\n",
       "    </tr>\n",
       "    <tr>\n",
       "      <th>63</th>\n",
       "      <td>Arlington Heights</td>\n",
       "      <td>POLYGON ((-79.96027 40.41810, -79.96023 40.418...</td>\n",
       "      <td>3.615556</td>\n",
       "      <td>0.000000</td>\n",
       "      <td>0.0</td>\n",
       "    </tr>\n",
       "    <tr>\n",
       "      <th>54</th>\n",
       "      <td>Allegheny West</td>\n",
       "      <td>POLYGON ((-80.01457 40.45397, -80.01453 40.453...</td>\n",
       "      <td>3.884963</td>\n",
       "      <td>0.000000</td>\n",
       "      <td>0.0</td>\n",
       "    </tr>\n",
       "  </tbody>\n",
       "</table>\n",
       "</div>"
      ],
      "text/plain": [
       "         Neighborhood                                              Shape  \\\n",
       "44        North Shore  POLYGON ((-79.99508 40.45000, -79.99535 40.449...   \n",
       "62            Chateau  POLYGON ((-80.02999 40.45909, -80.02989 40.458...   \n",
       "61        Polish Hill  POLYGON ((-79.96779 40.46085, -79.96716 40.460...   \n",
       "60    Crafton Heights  POLYGON ((-80.04222 40.44447, -80.04241 40.444...   \n",
       "59   Brighton Heights  POLYGON ((-80.04078 40.49142, -80.03756 40.490...   \n",
       "58   Allegheny Center  POLYGON ((-80.00149 40.45270, -80.00146 40.452...   \n",
       "57          Knoxville  POLYGON ((-79.98806 40.41592, -79.98797 40.414...   \n",
       "55            Elliott  POLYGON ((-80.02795 40.44463, -80.02806 40.444...   \n",
       "63  Arlington Heights  POLYGON ((-79.96027 40.41810, -79.96023 40.418...   \n",
       "54     Allegheny West  POLYGON ((-80.01457 40.45397, -80.01453 40.453...   \n",
       "\n",
       "         Area  Convenience Density  Grocery Density  \n",
       "44   8.348234             0.000000              0.0  \n",
       "62  10.542279             0.094856              0.0  \n",
       "61   7.001632             0.142824              0.0  \n",
       "60  20.641120             0.000000              0.0  \n",
       "59  30.736530             0.000000              0.0  \n",
       "58   5.752002             0.000000              0.0  \n",
       "57   8.290178             0.241249              0.0  \n",
       "55  16.673954             0.059974              0.0  \n",
       "63   3.615556             0.000000              0.0  \n",
       "54   3.884963             0.000000              0.0  "
      ]
     },
     "execution_count": 48,
     "metadata": {},
     "output_type": "execute_result"
    }
   ],
   "source": [
    "grocery_sorted = numEach.sort_values(\"Grocery Density\", ascending=True)\n",
    "grocery_sorted.head(10)"
   ]
  },
  {
   "cell_type": "markdown",
   "metadata": {},
   "source": [
    "Why are there so many neighborhoods with a grocery density of 0? Excluding the neighborhoods that are simply too small, we see neighborhoods like Brighton Heights with a massive area and not a single grocery store/supermarket. These neighborhoods are often referred to as 'food deserts' because they lack reasonable access to fresh produce and non-fast food options (The USDA uses a slightly different and more precise definition). Oftentimes, neighborhoods become food deserts due to low inocme levels, poverty, poor transportation, and other socioeconomic factors. A further area of research would be to look at other datasets that may help to explain the patterns found in my analysis of grocery/supermarket density."
   ]
  },
  {
   "cell_type": "markdown",
   "metadata": {},
   "source": [
    "## Submetric #2: Grow Pittsburgh Food Gardens (by Mason Hoydick)"
   ]
  },
  {
   "cell_type": "markdown",
   "metadata": {},
   "source": [
    "We have decided that the neighborhood with the best food is the best neighborhood in Pittsburgh. I am going to determine how many grow gardens (community food gardens) are in each neighborhood, and use that data to determine what I believe to be the best neighborhood in Pittsburgh. "
   ]
  },
  {
   "cell_type": "markdown",
   "metadata": {},
   "source": [
    "### My Sub-metric: Grow gardens per neighborhood"
   ]
  },
  {
   "attachments": {
    "4911ceee-0a9b-4877-88c0-34ad65661365.jpg": {
     "image/jpeg": "[encoded data removed]"
    }
   },
   "cell_type": "markdown",
   "metadata": {},
   "source": [
    "![Garden Image](attachment:4911ceee-0a9b-4877-88c0-34ad65661365.jpg)"
   ]
  },
  {
   "cell_type": "markdown",
   "metadata": {},
   "source": [
    "### Goal of my analysis "
   ]
  },
  {
   "cell_type": "markdown",
   "metadata": {},
   "source": [
    "My submetric is how many grow gardens are in each neighborhood. More gardens in a neighborhood correlates to a better Pittsburgh neighborhood. We will use the results of this analysis, along with the other two metrics, to determine which neighborhood in Pittsburgh has the best food overall."
   ]
  },
  {
   "cell_type": "markdown",
   "metadata": {},
   "source": [
    "### My Dataset"
   ]
  },
  {
   "cell_type": "markdown",
   "metadata": {},
   "source": [
    "I will begin my exploration by loading in the dataset and viewing a few of the rows. "
   ]
  },
  {
   "cell_type": "code",
   "execution_count": 49,
   "metadata": {},
   "outputs": [
    {
     "data": {
      "text/html": [
       "<div>\n",
       "<style scoped>\n",
       "    .dataframe tbody tr th:only-of-type {\n",
       "        vertical-align: middle;\n",
       "    }\n",
       "\n",
       "    .dataframe tbody tr th {\n",
       "        vertical-align: top;\n",
       "    }\n",
       "\n",
       "    .dataframe thead th {\n",
       "        text-align: right;\n",
       "    }\n",
       "</style>\n",
       "<table border=\"1\" class=\"dataframe\">\n",
       "  <thead>\n",
       "    <tr style=\"text-align: right;\">\n",
       "      <th></th>\n",
       "      <th>urban_grower</th>\n",
       "      <th>grower_id</th>\n",
       "      <th>category</th>\n",
       "      <th>url</th>\n",
       "      <th>street_address</th>\n",
       "      <th>city</th>\n",
       "      <th>state</th>\n",
       "      <th>zip_code</th>\n",
       "      <th>country</th>\n",
       "      <th>latitude</th>\n",
       "      <th>longitude</th>\n",
       "    </tr>\n",
       "  </thead>\n",
       "  <tbody>\n",
       "    <tr>\n",
       "      <th>0</th>\n",
       "      <td>Angora Gardens</td>\n",
       "      <td>584</td>\n",
       "      <td>sustainability-fund-site|other</td>\n",
       "      <td>https://www.growpittsburgh.org/directory/garde...</td>\n",
       "      <td>3 Muse Lane</td>\n",
       "      <td>White Oak</td>\n",
       "      <td>Pennsylvania</td>\n",
       "      <td>15131.0</td>\n",
       "      <td>US</td>\n",
       "      <td>40.404686</td>\n",
       "      <td>-79.862095</td>\n",
       "    </tr>\n",
       "    <tr>\n",
       "      <th>1</th>\n",
       "      <td>Everybody's Garden</td>\n",
       "      <td>586</td>\n",
       "      <td>sustainability-fund-site|other</td>\n",
       "      <td>https://www.growpittsburgh.org/directory/garde...</td>\n",
       "      <td>301 West Elizabeth Street</td>\n",
       "      <td>Pittsburgh</td>\n",
       "      <td>Pennsylvania</td>\n",
       "      <td>15207.0</td>\n",
       "      <td>US</td>\n",
       "      <td>40.406546</td>\n",
       "      <td>-79.945442</td>\n",
       "    </tr>\n",
       "    <tr>\n",
       "      <th>2</th>\n",
       "      <td>EvGard Extension</td>\n",
       "      <td>587</td>\n",
       "      <td>other</td>\n",
       "      <td>https://www.growpittsburgh.org/directory/garde...</td>\n",
       "      <td>NaN</td>\n",
       "      <td>Pittsburgh</td>\n",
       "      <td>Pennsylvania</td>\n",
       "      <td>15201.0</td>\n",
       "      <td>US</td>\n",
       "      <td>40.406377</td>\n",
       "      <td>-79.945559</td>\n",
       "    </tr>\n",
       "    <tr>\n",
       "      <th>3</th>\n",
       "      <td>Glen Hazel Communiuty Garden</td>\n",
       "      <td>588</td>\n",
       "      <td>other</td>\n",
       "      <td>https://www.growpittsburgh.org/directory/garde...</td>\n",
       "      <td>Johnston Avenue at Roselle Drive</td>\n",
       "      <td>Pittsburgh</td>\n",
       "      <td>Pennsylvania</td>\n",
       "      <td>15207.0</td>\n",
       "      <td>US</td>\n",
       "      <td>40.406040</td>\n",
       "      <td>-79.931253</td>\n",
       "    </tr>\n",
       "  </tbody>\n",
       "</table>\n",
       "</div>"
      ],
      "text/plain": [
       "                   urban_grower  grower_id                        category  \\\n",
       "0                Angora Gardens        584  sustainability-fund-site|other   \n",
       "1            Everybody's Garden        586  sustainability-fund-site|other   \n",
       "2              EvGard Extension        587                           other   \n",
       "3  Glen Hazel Communiuty Garden        588                           other   \n",
       "\n",
       "                                                 url  \\\n",
       "0  https://www.growpittsburgh.org/directory/garde...   \n",
       "1  https://www.growpittsburgh.org/directory/garde...   \n",
       "2  https://www.growpittsburgh.org/directory/garde...   \n",
       "3  https://www.growpittsburgh.org/directory/garde...   \n",
       "\n",
       "                     street_address        city         state  zip_code  \\\n",
       "0                       3 Muse Lane   White Oak  Pennsylvania   15131.0   \n",
       "1         301 West Elizabeth Street  Pittsburgh  Pennsylvania   15207.0   \n",
       "2                               NaN  Pittsburgh  Pennsylvania   15201.0   \n",
       "3  Johnston Avenue at Roselle Drive  Pittsburgh  Pennsylvania   15207.0   \n",
       "\n",
       "  country   latitude  longitude  \n",
       "0      US  40.404686 -79.862095  \n",
       "1      US  40.406546 -79.945442  \n",
       "2      US  40.406377 -79.945559  \n",
       "3      US  40.406040 -79.931253  "
      ]
     },
     "execution_count": 49,
     "metadata": {},
     "output_type": "execute_result"
    }
   ],
   "source": [
    "import pandas as pd \n",
    "import geopandas as gpd\n",
    "\n",
    "data = pd.read_csv('data/GrowGardenData.csv')\n",
    "data.head(4)"
   ]
  },
  {
   "cell_type": "markdown",
   "metadata": {},
   "source": [
    "For each grow garden in Pittsburgh, this dataset contains it's name, a unique ID, the type of garden, it's city, state, zip code, country, latitude, and longitude. "
   ]
  },
  {
   "cell_type": "markdown",
   "metadata": {},
   "source": [
    "### The Best Neighborhood (According to my sub-metric)"
   ]
  },
  {
   "cell_type": "markdown",
   "metadata": {},
   "source": [
    "I am going to start by dropping a couple of columns from the dataset which are not useful in determining which gardens are in which neighborhood, in order to tidy up the dataset. "
   ]
  },
  {
   "cell_type": "code",
   "execution_count": 50,
   "metadata": {},
   "outputs": [
    {
     "data": {
      "text/html": [
       "<div>\n",
       "<style scoped>\n",
       "    .dataframe tbody tr th:only-of-type {\n",
       "        vertical-align: middle;\n",
       "    }\n",
       "\n",
       "    .dataframe tbody tr th {\n",
       "        vertical-align: top;\n",
       "    }\n",
       "\n",
       "    .dataframe thead th {\n",
       "        text-align: right;\n",
       "    }\n",
       "</style>\n",
       "<table border=\"1\" class=\"dataframe\">\n",
       "  <thead>\n",
       "    <tr style=\"text-align: right;\">\n",
       "      <th></th>\n",
       "      <th>latitude</th>\n",
       "      <th>longitude</th>\n",
       "    </tr>\n",
       "  </thead>\n",
       "  <tbody>\n",
       "    <tr>\n",
       "      <th>0</th>\n",
       "      <td>40.404686</td>\n",
       "      <td>-79.862095</td>\n",
       "    </tr>\n",
       "    <tr>\n",
       "      <th>1</th>\n",
       "      <td>40.406546</td>\n",
       "      <td>-79.945442</td>\n",
       "    </tr>\n",
       "    <tr>\n",
       "      <th>2</th>\n",
       "      <td>40.406377</td>\n",
       "      <td>-79.945559</td>\n",
       "    </tr>\n",
       "    <tr>\n",
       "      <th>3</th>\n",
       "      <td>40.406040</td>\n",
       "      <td>-79.931253</td>\n",
       "    </tr>\n",
       "  </tbody>\n",
       "</table>\n",
       "</div>"
      ],
      "text/plain": [
       "    latitude  longitude\n",
       "0  40.404686 -79.862095\n",
       "1  40.406546 -79.945442\n",
       "2  40.406377 -79.945559\n",
       "3  40.406040 -79.931253"
      ]
     },
     "execution_count": 50,
     "metadata": {},
     "output_type": "execute_result"
    }
   ],
   "source": [
    "data1 = data.drop(columns=[\"category\",\"url\",\"state\",\"country\",\"urban_grower\",\n",
    "                           \"grower_id\",\"street_address\",\"city\",\"zip_code\"])\n",
    "data1.head(4)"
   ]
  },
  {
   "cell_type": "markdown",
   "metadata": {},
   "source": [
    "The columns I have removed are category, url, state, country, urban_grower, grower_id, street_address, city, and zip_code. The only two remaining columns are latitude and longitude, which are the only two necessary in figuring out which neighborhood each garden belongs to. "
   ]
  },
  {
   "cell_type": "markdown",
   "metadata": {},
   "source": [
    "Next, I am going to load in the data of Pittsburgh neighborhoods and determine how many gardens are in each neighborhood. "
   ]
  },
  {
   "cell_type": "code",
   "execution_count": 51,
   "metadata": {},
   "outputs": [
    {
     "data": {
      "text/html": [
       "<div>\n",
       "<style scoped>\n",
       "    .dataframe tbody tr th:only-of-type {\n",
       "        vertical-align: middle;\n",
       "    }\n",
       "\n",
       "    .dataframe tbody tr th {\n",
       "        vertical-align: top;\n",
       "    }\n",
       "\n",
       "    .dataframe thead th {\n",
       "        text-align: right;\n",
       "    }\n",
       "</style>\n",
       "<table border=\"1\" class=\"dataframe\">\n",
       "  <thead>\n",
       "    <tr style=\"text-align: right;\">\n",
       "      <th></th>\n",
       "      <th>objectid</th>\n",
       "      <th>fid_blockg</th>\n",
       "      <th>statefp10</th>\n",
       "      <th>countyfp10</th>\n",
       "      <th>tractce10</th>\n",
       "      <th>blkgrpce10</th>\n",
       "      <th>geoid10</th>\n",
       "      <th>namelsad10</th>\n",
       "      <th>mtfcc10</th>\n",
       "      <th>funcstat10</th>\n",
       "      <th>...</th>\n",
       "      <th>shape_ar_1</th>\n",
       "      <th>page_numbe</th>\n",
       "      <th>plannerass</th>\n",
       "      <th>created_us</th>\n",
       "      <th>created_da</th>\n",
       "      <th>last_edite</th>\n",
       "      <th>last_edi_1</th>\n",
       "      <th>Shape__Are</th>\n",
       "      <th>Shape__Len</th>\n",
       "      <th>geometry</th>\n",
       "    </tr>\n",
       "  </thead>\n",
       "  <tbody>\n",
       "    <tr>\n",
       "      <th>0</th>\n",
       "      <td>1</td>\n",
       "      <td>0.0</td>\n",
       "      <td>42</td>\n",
       "      <td>003</td>\n",
       "      <td>040500</td>\n",
       "      <td>1</td>\n",
       "      <td>420030405001</td>\n",
       "      <td>Block Group 1</td>\n",
       "      <td>G5030</td>\n",
       "      <td>S</td>\n",
       "      <td>...</td>\n",
       "      <td>7.843108e+06</td>\n",
       "      <td>15</td>\n",
       "      <td>Derek Dauphin</td>\n",
       "      <td>pgh.admin</td>\n",
       "      <td>2019-10-23T14:17:16.403Z</td>\n",
       "      <td>pgh.admin</td>\n",
       "      <td>2019-10-23T14:17:16.403Z</td>\n",
       "      <td>7.842997e+06</td>\n",
       "      <td>11525.904546</td>\n",
       "      <td>POLYGON ((-79.95304 40.44203, -79.95302 40.442...</td>\n",
       "    </tr>\n",
       "    <tr>\n",
       "      <th>1</th>\n",
       "      <td>2</td>\n",
       "      <td>1.0</td>\n",
       "      <td>42</td>\n",
       "      <td>003</td>\n",
       "      <td>040400</td>\n",
       "      <td>1</td>\n",
       "      <td>420030404001</td>\n",
       "      <td>Block Group 1</td>\n",
       "      <td>G5030</td>\n",
       "      <td>S</td>\n",
       "      <td>...</td>\n",
       "      <td>1.390463e+07</td>\n",
       "      <td>15</td>\n",
       "      <td>Derek Dauphin</td>\n",
       "      <td>pgh.admin</td>\n",
       "      <td>2019-10-23T14:17:16.403Z</td>\n",
       "      <td>pgh.admin</td>\n",
       "      <td>2019-10-23T14:17:16.403Z</td>\n",
       "      <td>1.390469e+07</td>\n",
       "      <td>20945.562570</td>\n",
       "      <td>POLYGON ((-79.95455 40.45882, -79.95427 40.458...</td>\n",
       "    </tr>\n",
       "    <tr>\n",
       "      <th>2</th>\n",
       "      <td>3</td>\n",
       "      <td>2.0</td>\n",
       "      <td>42</td>\n",
       "      <td>003</td>\n",
       "      <td>040200</td>\n",
       "      <td>2</td>\n",
       "      <td>420030402002</td>\n",
       "      <td>Block Group 2</td>\n",
       "      <td>G5030</td>\n",
       "      <td>S</td>\n",
       "      <td>...</td>\n",
       "      <td>5.999801e+06</td>\n",
       "      <td>15</td>\n",
       "      <td>Derek Dauphin</td>\n",
       "      <td>pgh.admin</td>\n",
       "      <td>2019-10-23T14:17:16.403Z</td>\n",
       "      <td>pgh.admin</td>\n",
       "      <td>2019-10-23T14:17:16.403Z</td>\n",
       "      <td>5.998649e+06</td>\n",
       "      <td>18280.484515</td>\n",
       "      <td>POLYGON ((-79.96230 40.44294, -79.96220 40.442...</td>\n",
       "    </tr>\n",
       "  </tbody>\n",
       "</table>\n",
       "<p>3 rows × 38 columns</p>\n",
       "</div>"
      ],
      "text/plain": [
       "   objectid  fid_blockg statefp10 countyfp10 tractce10 blkgrpce10  \\\n",
       "0         1         0.0        42        003    040500          1   \n",
       "1         2         1.0        42        003    040400          1   \n",
       "2         3         2.0        42        003    040200          2   \n",
       "\n",
       "        geoid10     namelsad10 mtfcc10 funcstat10  ...    shape_ar_1  \\\n",
       "0  420030405001  Block Group 1   G5030          S  ...  7.843108e+06   \n",
       "1  420030404001  Block Group 1   G5030          S  ...  1.390463e+07   \n",
       "2  420030402002  Block Group 2   G5030          S  ...  5.999801e+06   \n",
       "\n",
       "   page_numbe     plannerass created_us                created_da  last_edite  \\\n",
       "0          15  Derek Dauphin  pgh.admin  2019-10-23T14:17:16.403Z   pgh.admin   \n",
       "1          15  Derek Dauphin  pgh.admin  2019-10-23T14:17:16.403Z   pgh.admin   \n",
       "2          15  Derek Dauphin  pgh.admin  2019-10-23T14:17:16.403Z   pgh.admin   \n",
       "\n",
       "                 last_edi_1    Shape__Are    Shape__Len  \\\n",
       "0  2019-10-23T14:17:16.403Z  7.842997e+06  11525.904546   \n",
       "1  2019-10-23T14:17:16.403Z  1.390469e+07  20945.562570   \n",
       "2  2019-10-23T14:17:16.403Z  5.998649e+06  18280.484515   \n",
       "\n",
       "                                            geometry  \n",
       "0  POLYGON ((-79.95304 40.44203, -79.95302 40.442...  \n",
       "1  POLYGON ((-79.95455 40.45882, -79.95427 40.458...  \n",
       "2  POLYGON ((-79.96230 40.44294, -79.96220 40.442...  \n",
       "\n",
       "[3 rows x 38 columns]"
      ]
     },
     "execution_count": 51,
     "metadata": {},
     "output_type": "execute_result"
    }
   ],
   "source": [
    "neighborhood_data = gpd.read_file(\"data/Neighborhoods/Neighborhoods_.shp\")\n",
    "neighborhood_data.head(3)"
   ]
  },
  {
   "cell_type": "markdown",
   "metadata": {},
   "source": [
    "I am now going to tidy up this dataset, so it will be easier to view and determine how many grow gardens are in each neighborhood. I am going to simplify this geopandas dataset into a much simpler pandas dataset. "
   ]
  },
  {
   "cell_type": "code",
   "execution_count": 52,
   "metadata": {},
   "outputs": [
    {
     "data": {
      "text/html": [
       "<div>\n",
       "<style scoped>\n",
       "    .dataframe tbody tr th:only-of-type {\n",
       "        vertical-align: middle;\n",
       "    }\n",
       "\n",
       "    .dataframe tbody tr th {\n",
       "        vertical-align: top;\n",
       "    }\n",
       "\n",
       "    .dataframe thead th {\n",
       "        text-align: right;\n",
       "    }\n",
       "</style>\n",
       "<table border=\"1\" class=\"dataframe\">\n",
       "  <thead>\n",
       "    <tr style=\"text-align: right;\">\n",
       "      <th></th>\n",
       "      <th>Neighborhood</th>\n",
       "      <th>Geometry</th>\n",
       "      <th>Grow_Gardens</th>\n",
       "    </tr>\n",
       "  </thead>\n",
       "  <tbody>\n",
       "    <tr>\n",
       "      <th>0</th>\n",
       "      <td>Central Oakland</td>\n",
       "      <td>POLYGON ((-79.95304 40.44203, -79.95302 40.442...</td>\n",
       "      <td>0</td>\n",
       "    </tr>\n",
       "    <tr>\n",
       "      <th>1</th>\n",
       "      <td>North Oakland</td>\n",
       "      <td>POLYGON ((-79.95455 40.45882, -79.95427 40.458...</td>\n",
       "      <td>0</td>\n",
       "    </tr>\n",
       "    <tr>\n",
       "      <th>2</th>\n",
       "      <td>West Oakland</td>\n",
       "      <td>POLYGON ((-79.96230 40.44294, -79.96220 40.442...</td>\n",
       "      <td>0</td>\n",
       "    </tr>\n",
       "  </tbody>\n",
       "</table>\n",
       "</div>"
      ],
      "text/plain": [
       "      Neighborhood                                           Geometry  \\\n",
       "0  Central Oakland  POLYGON ((-79.95304 40.44203, -79.95302 40.442...   \n",
       "1    North Oakland  POLYGON ((-79.95455 40.45882, -79.95427 40.458...   \n",
       "2     West Oakland  POLYGON ((-79.96230 40.44294, -79.96220 40.442...   \n",
       "\n",
       "   Grow_Gardens  \n",
       "0             0  \n",
       "1             0  \n",
       "2             0  "
      ]
     },
     "execution_count": 52,
     "metadata": {},
     "output_type": "execute_result"
    }
   ],
   "source": [
    "mason_neighborhoods = pd.DataFrame(columns = [\"Neighborhood\", \"Geometry\", \"Grow_Gardens\"])\n",
    "mason_neighborhoods[\"Neighborhood\"] = neighborhood_data[\"hood\"]\n",
    "mason_neighborhoods[\"Geometry\"] = neighborhood_data[\"geometry\"]\n",
    "mason_neighborhoods[\"Grow_Gardens\"] = 0\n",
    "\n",
    "mason_neighborhoods.head(3)"
   ]
  },
  {
   "cell_type": "markdown",
   "metadata": {},
   "source": [
    "This dataset just contains each Pittsburgh neighborhood, alongside it's longitude and latitudes. It also has a column named \"Grow_Gardens\" which will be used to keep track of the number of grow gardens in each neighborhood. "
   ]
  },
  {
   "cell_type": "markdown",
   "metadata": {},
   "source": [
    "Now, I am going to iterate through the grow gardens data, and determine how many gardens are in each neighborhood, by updating the \"Grow_Gardens\" column in the dataset I have just created. "
   ]
  },
  {
   "cell_type": "code",
   "execution_count": 53,
   "metadata": {},
   "outputs": [
    {
     "data": {
      "text/html": [
       "<div>\n",
       "<style scoped>\n",
       "    .dataframe tbody tr th:only-of-type {\n",
       "        vertical-align: middle;\n",
       "    }\n",
       "\n",
       "    .dataframe tbody tr th {\n",
       "        vertical-align: top;\n",
       "    }\n",
       "\n",
       "    .dataframe thead th {\n",
       "        text-align: right;\n",
       "    }\n",
       "</style>\n",
       "<table border=\"1\" class=\"dataframe\">\n",
       "  <thead>\n",
       "    <tr style=\"text-align: right;\">\n",
       "      <th></th>\n",
       "      <th>Neighborhood</th>\n",
       "      <th>Geometry</th>\n",
       "      <th>Grow_Gardens</th>\n",
       "    </tr>\n",
       "  </thead>\n",
       "  <tbody>\n",
       "    <tr>\n",
       "      <th>0</th>\n",
       "      <td>Central Oakland</td>\n",
       "      <td>POLYGON ((-79.95304 40.44203, -79.95302 40.442...</td>\n",
       "      <td>0</td>\n",
       "    </tr>\n",
       "    <tr>\n",
       "      <th>1</th>\n",
       "      <td>North Oakland</td>\n",
       "      <td>POLYGON ((-79.95455 40.45882, -79.95427 40.458...</td>\n",
       "      <td>1</td>\n",
       "    </tr>\n",
       "    <tr>\n",
       "      <th>2</th>\n",
       "      <td>West Oakland</td>\n",
       "      <td>POLYGON ((-79.96230 40.44294, -79.96220 40.442...</td>\n",
       "      <td>3</td>\n",
       "    </tr>\n",
       "    <tr>\n",
       "      <th>3</th>\n",
       "      <td>Crawford-Roberts</td>\n",
       "      <td>POLYGON ((-79.98275 40.44641, -79.98273 40.446...</td>\n",
       "      <td>1</td>\n",
       "    </tr>\n",
       "    <tr>\n",
       "      <th>4</th>\n",
       "      <td>Strip District</td>\n",
       "      <td>POLYGON ((-79.97494 40.45629, -79.97484 40.456...</td>\n",
       "      <td>0</td>\n",
       "    </tr>\n",
       "    <tr>\n",
       "      <th>5</th>\n",
       "      <td>Central Business District</td>\n",
       "      <td>POLYGON ((-79.99238 40.44484, -79.99233 40.444...</td>\n",
       "      <td>0</td>\n",
       "    </tr>\n",
       "    <tr>\n",
       "      <th>6</th>\n",
       "      <td>Spring Hill-City View</td>\n",
       "      <td>POLYGON ((-79.99761 40.47460, -79.99761 40.474...</td>\n",
       "      <td>0</td>\n",
       "    </tr>\n",
       "    <tr>\n",
       "      <th>7</th>\n",
       "      <td>Perry South</td>\n",
       "      <td>POLYGON ((-80.01456 40.47727, -80.01462 40.477...</td>\n",
       "      <td>1</td>\n",
       "    </tr>\n",
       "    <tr>\n",
       "      <th>8</th>\n",
       "      <td>Summer Hill</td>\n",
       "      <td>POLYGON ((-80.01087 40.50097, -80.01073 40.499...</td>\n",
       "      <td>0</td>\n",
       "    </tr>\n",
       "    <tr>\n",
       "      <th>9</th>\n",
       "      <td>Northview Heights</td>\n",
       "      <td>POLYGON ((-80.00327 40.48271, -80.00326 40.482...</td>\n",
       "      <td>0</td>\n",
       "    </tr>\n",
       "  </tbody>\n",
       "</table>\n",
       "</div>"
      ],
      "text/plain": [
       "                Neighborhood  \\\n",
       "0            Central Oakland   \n",
       "1              North Oakland   \n",
       "2               West Oakland   \n",
       "3           Crawford-Roberts   \n",
       "4             Strip District   \n",
       "5  Central Business District   \n",
       "6      Spring Hill-City View   \n",
       "7                Perry South   \n",
       "8                Summer Hill   \n",
       "9          Northview Heights   \n",
       "\n",
       "                                            Geometry  Grow_Gardens  \n",
       "0  POLYGON ((-79.95304 40.44203, -79.95302 40.442...             0  \n",
       "1  POLYGON ((-79.95455 40.45882, -79.95427 40.458...             1  \n",
       "2  POLYGON ((-79.96230 40.44294, -79.96220 40.442...             3  \n",
       "3  POLYGON ((-79.98275 40.44641, -79.98273 40.446...             1  \n",
       "4  POLYGON ((-79.97494 40.45629, -79.97484 40.456...             0  \n",
       "5  POLYGON ((-79.99238 40.44484, -79.99233 40.444...             0  \n",
       "6  POLYGON ((-79.99761 40.47460, -79.99761 40.474...             0  \n",
       "7  POLYGON ((-80.01456 40.47727, -80.01462 40.477...             1  \n",
       "8  POLYGON ((-80.01087 40.50097, -80.01073 40.499...             0  \n",
       "9  POLYGON ((-80.00327 40.48271, -80.00326 40.482...             0  "
      ]
     },
     "execution_count": 53,
     "metadata": {},
     "output_type": "execute_result"
    }
   ],
   "source": [
    "# Importing the Point class in order to use longitude and latitude to determine what gardens are in what neighborhood \n",
    "from shapely.geometry import Point\n",
    "\n",
    "for i, garden in data1.iterrows(): \n",
    "    # Begin by fixing each garden to a point \n",
    "    pt = Point(garden['longitude'],garden['latitude'])\n",
    "    \n",
    "    # Next, will itterate through the neighborhoods until we find the correct nieghborhood belonging to each garden \n",
    "    for j, neighborhood in mason_neighborhoods.iterrows(): \n",
    "        # When neighborhood contains the point of the garden, increment the garden variable and move onto the next garden \n",
    "        if neighborhood['Geometry'].contains(pt): \n",
    "            mason_neighborhoods.at[j, 'Grow_Gardens'] = neighborhood[\"Grow_Gardens\"] + 1\n",
    "            break\n",
    "            \n",
    "mason_neighborhoods.head(10)"
   ]
  },
  {
   "cell_type": "markdown",
   "metadata": {},
   "source": [
    "Next, I am going to sort the neighborhoods, from most grow gardens to least. "
   ]
  },
  {
   "cell_type": "code",
   "execution_count": 54,
   "metadata": {},
   "outputs": [
    {
     "data": {
      "text/html": [
       "<div>\n",
       "<style scoped>\n",
       "    .dataframe tbody tr th:only-of-type {\n",
       "        vertical-align: middle;\n",
       "    }\n",
       "\n",
       "    .dataframe tbody tr th {\n",
       "        vertical-align: top;\n",
       "    }\n",
       "\n",
       "    .dataframe thead th {\n",
       "        text-align: right;\n",
       "    }\n",
       "</style>\n",
       "<table border=\"1\" class=\"dataframe\">\n",
       "  <thead>\n",
       "    <tr style=\"text-align: right;\">\n",
       "      <th></th>\n",
       "      <th>Neighborhood</th>\n",
       "      <th>Geometry</th>\n",
       "      <th>Grow_Gardens</th>\n",
       "    </tr>\n",
       "  </thead>\n",
       "  <tbody>\n",
       "    <tr>\n",
       "      <th>33</th>\n",
       "      <td>Point Breeze</td>\n",
       "      <td>POLYGON ((-79.89526 40.44717, -79.89517 40.447...</td>\n",
       "      <td>4</td>\n",
       "    </tr>\n",
       "    <tr>\n",
       "      <th>77</th>\n",
       "      <td>East Liberty</td>\n",
       "      <td>POLYGON ((-79.91581 40.46088, -79.91580 40.460...</td>\n",
       "      <td>4</td>\n",
       "    </tr>\n",
       "    <tr>\n",
       "      <th>37</th>\n",
       "      <td>Garfield</td>\n",
       "      <td>POLYGON ((-79.92961 40.46528, -79.92994 40.464...</td>\n",
       "      <td>4</td>\n",
       "    </tr>\n",
       "    <tr>\n",
       "      <th>2</th>\n",
       "      <td>West Oakland</td>\n",
       "      <td>POLYGON ((-79.96230 40.44294, -79.96220 40.442...</td>\n",
       "      <td>3</td>\n",
       "    </tr>\n",
       "    <tr>\n",
       "      <th>18</th>\n",
       "      <td>Hazelwood</td>\n",
       "      <td>POLYGON ((-79.95505 40.42713, -79.95498 40.427...</td>\n",
       "      <td>3</td>\n",
       "    </tr>\n",
       "    <tr>\n",
       "      <th>21</th>\n",
       "      <td>South Oakland</td>\n",
       "      <td>POLYGON ((-79.95899 40.43665, -79.95887 40.436...</td>\n",
       "      <td>3</td>\n",
       "    </tr>\n",
       "    <tr>\n",
       "      <th>81</th>\n",
       "      <td>Middle Hill</td>\n",
       "      <td>MULTIPOLYGON (((-79.97980 40.44761, -79.97979 ...</td>\n",
       "      <td>3</td>\n",
       "    </tr>\n",
       "    <tr>\n",
       "      <th>43</th>\n",
       "      <td>Larimer</td>\n",
       "      <td>POLYGON ((-79.91243 40.45405, -79.91243 40.454...</td>\n",
       "      <td>3</td>\n",
       "    </tr>\n",
       "    <tr>\n",
       "      <th>12</th>\n",
       "      <td>Central Lawrenceville</td>\n",
       "      <td>POLYGON ((-79.95393 40.47731, -79.95381 40.477...</td>\n",
       "      <td>3</td>\n",
       "    </tr>\n",
       "    <tr>\n",
       "      <th>24</th>\n",
       "      <td>Squirrel Hill South</td>\n",
       "      <td>POLYGON ((-79.94475 40.44101, -79.94405 40.440...</td>\n",
       "      <td>2</td>\n",
       "    </tr>\n",
       "    <tr>\n",
       "      <th>61</th>\n",
       "      <td>Polish Hill</td>\n",
       "      <td>POLYGON ((-79.96779 40.46085, -79.96716 40.460...</td>\n",
       "      <td>2</td>\n",
       "    </tr>\n",
       "    <tr>\n",
       "      <th>31</th>\n",
       "      <td>Bloomfield</td>\n",
       "      <td>POLYGON ((-79.93939 40.46454, -79.93933 40.464...</td>\n",
       "      <td>2</td>\n",
       "    </tr>\n",
       "    <tr>\n",
       "      <th>48</th>\n",
       "      <td>Friendship</td>\n",
       "      <td>POLYGON ((-79.93095 40.46304, -79.93098 40.462...</td>\n",
       "      <td>1</td>\n",
       "    </tr>\n",
       "    <tr>\n",
       "      <th>73</th>\n",
       "      <td>Homewood South</td>\n",
       "      <td>POLYGON ((-79.88666 40.45521, -79.88651 40.455...</td>\n",
       "      <td>1</td>\n",
       "    </tr>\n",
       "    <tr>\n",
       "      <th>67</th>\n",
       "      <td>Regent Square</td>\n",
       "      <td>POLYGON ((-79.89709 40.42765, -79.89661 40.427...</td>\n",
       "      <td>1</td>\n",
       "    </tr>\n",
       "  </tbody>\n",
       "</table>\n",
       "</div>"
      ],
      "text/plain": [
       "             Neighborhood                                           Geometry  \\\n",
       "33           Point Breeze  POLYGON ((-79.89526 40.44717, -79.89517 40.447...   \n",
       "77           East Liberty  POLYGON ((-79.91581 40.46088, -79.91580 40.460...   \n",
       "37               Garfield  POLYGON ((-79.92961 40.46528, -79.92994 40.464...   \n",
       "2            West Oakland  POLYGON ((-79.96230 40.44294, -79.96220 40.442...   \n",
       "18              Hazelwood  POLYGON ((-79.95505 40.42713, -79.95498 40.427...   \n",
       "21          South Oakland  POLYGON ((-79.95899 40.43665, -79.95887 40.436...   \n",
       "81            Middle Hill  MULTIPOLYGON (((-79.97980 40.44761, -79.97979 ...   \n",
       "43                Larimer  POLYGON ((-79.91243 40.45405, -79.91243 40.454...   \n",
       "12  Central Lawrenceville  POLYGON ((-79.95393 40.47731, -79.95381 40.477...   \n",
       "24    Squirrel Hill South  POLYGON ((-79.94475 40.44101, -79.94405 40.440...   \n",
       "61            Polish Hill  POLYGON ((-79.96779 40.46085, -79.96716 40.460...   \n",
       "31             Bloomfield  POLYGON ((-79.93939 40.46454, -79.93933 40.464...   \n",
       "48             Friendship  POLYGON ((-79.93095 40.46304, -79.93098 40.462...   \n",
       "73         Homewood South  POLYGON ((-79.88666 40.45521, -79.88651 40.455...   \n",
       "67          Regent Square  POLYGON ((-79.89709 40.42765, -79.89661 40.427...   \n",
       "\n",
       "    Grow_Gardens  \n",
       "33             4  \n",
       "77             4  \n",
       "37             4  \n",
       "2              3  \n",
       "18             3  \n",
       "21             3  \n",
       "81             3  \n",
       "43             3  \n",
       "12             3  \n",
       "24             2  \n",
       "61             2  \n",
       "31             2  \n",
       "48             1  \n",
       "73             1  \n",
       "67             1  "
      ]
     },
     "execution_count": 54,
     "metadata": {},
     "output_type": "execute_result"
    }
   ],
   "source": [
    "sorted_neighborhoods = mason_neighborhoods.sort_values(\"Grow_Gardens\", ascending=False)\n",
    "\n",
    "sorted_neighborhoods.head(15)"
   ]
  },
  {
   "cell_type": "markdown",
   "metadata": {},
   "source": [
    "After viewing the data, I learned that just 33 neighorhoods in Pittsburgh have at least 1 grow garden, so I am going to put those 33 on a plot. "
   ]
  },
  {
   "cell_type": "code",
   "execution_count": 55,
   "metadata": {},
   "outputs": [
    {
     "data": {
      "image/png": "[encoded data removed]",
      "text/plain": [
       "<Figure size 432x288 with 1 Axes>"
      ]
     },
     "metadata": {
      "needs_background": "light"
     },
     "output_type": "display_data"
    }
   ],
   "source": [
    "plot = sorted_neighborhoods.iloc[:33].plot(kind='bar', x=\"Neighborhood\", y=\"Grow_Gardens\",\n",
    "                                           title=\"Grow Gardens per Pittsburgh Neighborhood\")"
   ]
  },
  {
   "cell_type": "markdown",
   "metadata": {},
   "source": [
    "### Results"
   ]
  },
  {
   "cell_type": "markdown",
   "metadata": {},
   "source": [
    "From looking at the plot, Point Breeze, East Liberty, and Garfield are the only Pittsburgh neighborhoods with 4 grow gardens. \n",
    "\n",
    "Next are West Oakland, Hazelwood, South Oakland, Middle Hill, Larimer, and Central Lawrenceville, which all have 3 grow gardens. \n",
    "\n",
    "Squirrel Hill South, Polish Hill, and Bloomfield all have two grow gardens, and then there are a number of Pittsburgh neighborhoods that only have one garden contained in their neighborhood. "
   ]
  },
  {
   "cell_type": "markdown",
   "metadata": {},
   "source": [
    "### Submetric #2: Conclusion/Results"
   ]
  },
  {
   "cell_type": "markdown",
   "metadata": {},
   "source": [
    "To summarize, the best neighborhood under my submetric would be Point Breeze, East Liberty, or Garfield. In order to use my analysis along with the other two submetrics, we will assign each neighborhood a \"rank\" according to which \"tier\" they belong to. For instance, Point Breeze, East Libery, and Garfield would all be assigned rank 1 while West Oakland, Hazelwood, etc. would get rank 2. This will allow us to take a sum across all of the rankings that our individual analyses produce and definitively find a single neighborhood that is the \"best.\""
   ]
  },
  {
   "cell_type": "markdown",
   "metadata": {},
   "source": [
    "## Submetric #3: Food Safety Violations (by Dominic Galatis)"
   ]
  },
  {
   "cell_type": "markdown",
   "metadata": {},
   "source": [
    "Our group has chosen the metric of which neighborhood produces the \"best\" food in Pittsburgh. Along with access to fresh, locally-grown food, the cleanlieness of prepared food options plays an important role. I will examine trends of restaurants not passing inspection, and look for patterns that indicate the best neighborhoods in terms of prepared food safety/quality."
   ]
  },
  {
   "cell_type": "markdown",
   "metadata": {},
   "source": [
    "### My Submetric: Restaurant/Food Facility Inspections and Locations"
   ]
  },
  {
   "cell_type": "markdown",
   "metadata": {},
   "source": [
    "![inspection](https://media.giphy.com/media/xULW8xwbxgeSN9X2ww/giphy.gif))"
   ]
  },
  {
   "cell_type": "markdown",
   "metadata": {},
   "source": [
    "### Goal of my Analysis:"
   ]
  },
  {
   "cell_type": "markdown",
   "metadata": {},
   "source": [
    "My sub-metric is Restaurant/Food Facility Inspections and Locations. Passing inspections is important in order to keep restraunts open and running while serving the best quality food. I want to find trends in certain areas passing/not passing inspections. At the end, I will find which neighborhood has the best cleanliness in this important food setting."
   ]
  },
  {
   "cell_type": "markdown",
   "metadata": {},
   "source": [
    "### Data Preview:"
   ]
  },
  {
   "cell_type": "code",
   "execution_count": 56,
   "metadata": {},
   "outputs": [
    {
     "data": {
      "text/html": [
       "<div>\n",
       "<style scoped>\n",
       "    .dataframe tbody tr th:only-of-type {\n",
       "        vertical-align: middle;\n",
       "    }\n",
       "\n",
       "    .dataframe tbody tr th {\n",
       "        vertical-align: top;\n",
       "    }\n",
       "\n",
       "    .dataframe thead th {\n",
       "        text-align: right;\n",
       "    }\n",
       "</style>\n",
       "<table border=\"1\" class=\"dataframe\">\n",
       "  <thead>\n",
       "    <tr style=\"text-align: right;\">\n",
       "      <th></th>\n",
       "      <th>encounter</th>\n",
       "      <th>id</th>\n",
       "      <th>placard_st</th>\n",
       "      <th>facility_name</th>\n",
       "      <th>bus_st_date</th>\n",
       "      <th>description</th>\n",
       "      <th>description_new</th>\n",
       "      <th>num</th>\n",
       "      <th>street</th>\n",
       "      <th>city</th>\n",
       "      <th>...</th>\n",
       "      <th>zip</th>\n",
       "      <th>inspect_dt</th>\n",
       "      <th>start_time</th>\n",
       "      <th>end_time</th>\n",
       "      <th>municipal</th>\n",
       "      <th>rating</th>\n",
       "      <th>low</th>\n",
       "      <th>medium</th>\n",
       "      <th>high</th>\n",
       "      <th>url</th>\n",
       "    </tr>\n",
       "  </thead>\n",
       "  <tbody>\n",
       "    <tr>\n",
       "      <th>0</th>\n",
       "      <td>201401020031</td>\n",
       "      <td>201005070003</td>\n",
       "      <td>1</td>\n",
       "      <td>Vocelli Pizza</td>\n",
       "      <td>2010-04-28</td>\n",
       "      <td>Chain Restaurant without Liquor</td>\n",
       "      <td>Toxic Items</td>\n",
       "      <td>1019</td>\n",
       "      <td>Mt Royal Boulevard</td>\n",
       "      <td>Pittsburgh</td>\n",
       "      <td>...</td>\n",
       "      <td>15223.0</td>\n",
       "      <td>2014-01-02</td>\n",
       "      <td>12:00:00</td>\n",
       "      <td>12:30:00</td>\n",
       "      <td>Shaler</td>\n",
       "      <td>V</td>\n",
       "      <td>F</td>\n",
       "      <td>F</td>\n",
       "      <td>F</td>\n",
       "      <td>http://appsrv.alleghenycounty.us/reports/rwser...</td>\n",
       "    </tr>\n",
       "    <tr>\n",
       "      <th>1</th>\n",
       "      <td>201401020031</td>\n",
       "      <td>201005070003</td>\n",
       "      <td>1</td>\n",
       "      <td>Vocelli Pizza</td>\n",
       "      <td>2010-04-28</td>\n",
       "      <td>Chain Restaurant without Liquor</td>\n",
       "      <td>Certified Food Protection Manager</td>\n",
       "      <td>1019</td>\n",
       "      <td>Mt Royal Boulevard</td>\n",
       "      <td>Pittsburgh</td>\n",
       "      <td>...</td>\n",
       "      <td>15223.0</td>\n",
       "      <td>2014-01-02</td>\n",
       "      <td>12:00:00</td>\n",
       "      <td>12:30:00</td>\n",
       "      <td>Shaler</td>\n",
       "      <td>V</td>\n",
       "      <td>F</td>\n",
       "      <td>F</td>\n",
       "      <td>F</td>\n",
       "      <td>http://appsrv.alleghenycounty.us/reports/rwser...</td>\n",
       "    </tr>\n",
       "    <tr>\n",
       "      <th>2</th>\n",
       "      <td>201401020032</td>\n",
       "      <td>200307030002</td>\n",
       "      <td>1</td>\n",
       "      <td>The Groove Cheesesteak Co aka Southside Steaks</td>\n",
       "      <td>2003-06-20</td>\n",
       "      <td>Restaurant without Liquor</td>\n",
       "      <td>Probe-Type Thermometers</td>\n",
       "      <td>2000</td>\n",
       "      <td>E Carson Street</td>\n",
       "      <td>Pittsburgh</td>\n",
       "      <td>...</td>\n",
       "      <td>15203.0</td>\n",
       "      <td>2014-01-02</td>\n",
       "      <td>11:30:00</td>\n",
       "      <td>12:45:00</td>\n",
       "      <td>Pittsburgh-117</td>\n",
       "      <td>V</td>\n",
       "      <td>F</td>\n",
       "      <td>F</td>\n",
       "      <td>F</td>\n",
       "      <td>http://appsrv.alleghenycounty.us/reports/rwser...</td>\n",
       "    </tr>\n",
       "    <tr>\n",
       "      <th>3</th>\n",
       "      <td>201401020032</td>\n",
       "      <td>200307030002</td>\n",
       "      <td>1</td>\n",
       "      <td>The Groove Cheesesteak Co aka Southside Steaks</td>\n",
       "      <td>2003-06-20</td>\n",
       "      <td>Restaurant without Liquor</td>\n",
       "      <td>Employee Personal Hygiene</td>\n",
       "      <td>2000</td>\n",
       "      <td>E Carson Street</td>\n",
       "      <td>Pittsburgh</td>\n",
       "      <td>...</td>\n",
       "      <td>15203.0</td>\n",
       "      <td>2014-01-02</td>\n",
       "      <td>11:30:00</td>\n",
       "      <td>12:45:00</td>\n",
       "      <td>Pittsburgh-117</td>\n",
       "      <td>V</td>\n",
       "      <td>F</td>\n",
       "      <td>F</td>\n",
       "      <td>F</td>\n",
       "      <td>http://appsrv.alleghenycounty.us/reports/rwser...</td>\n",
       "    </tr>\n",
       "    <tr>\n",
       "      <th>4</th>\n",
       "      <td>201401020032</td>\n",
       "      <td>200307030002</td>\n",
       "      <td>1</td>\n",
       "      <td>The Groove Cheesesteak Co aka Southside Steaks</td>\n",
       "      <td>2003-06-20</td>\n",
       "      <td>Restaurant without Liquor</td>\n",
       "      <td>Handwashing Facilities</td>\n",
       "      <td>2000</td>\n",
       "      <td>E Carson Street</td>\n",
       "      <td>Pittsburgh</td>\n",
       "      <td>...</td>\n",
       "      <td>15203.0</td>\n",
       "      <td>2014-01-02</td>\n",
       "      <td>11:30:00</td>\n",
       "      <td>12:45:00</td>\n",
       "      <td>Pittsburgh-117</td>\n",
       "      <td>V</td>\n",
       "      <td>F</td>\n",
       "      <td>F</td>\n",
       "      <td>F</td>\n",
       "      <td>http://appsrv.alleghenycounty.us/reports/rwser...</td>\n",
       "    </tr>\n",
       "  </tbody>\n",
       "</table>\n",
       "<p>5 rows × 21 columns</p>\n",
       "</div>"
      ],
      "text/plain": [
       "      encounter            id  placard_st  \\\n",
       "0  201401020031  201005070003           1   \n",
       "1  201401020031  201005070003           1   \n",
       "2  201401020032  200307030002           1   \n",
       "3  201401020032  200307030002           1   \n",
       "4  201401020032  200307030002           1   \n",
       "\n",
       "                                    facility_name bus_st_date  \\\n",
       "0                                   Vocelli Pizza  2010-04-28   \n",
       "1                                   Vocelli Pizza  2010-04-28   \n",
       "2  The Groove Cheesesteak Co aka Southside Steaks  2003-06-20   \n",
       "3  The Groove Cheesesteak Co aka Southside Steaks  2003-06-20   \n",
       "4  The Groove Cheesesteak Co aka Southside Steaks  2003-06-20   \n",
       "\n",
       "                       description                    description_new   num  \\\n",
       "0  Chain Restaurant without Liquor                        Toxic Items  1019   \n",
       "1  Chain Restaurant without Liquor  Certified Food Protection Manager  1019   \n",
       "2        Restaurant without Liquor            Probe-Type Thermometers  2000   \n",
       "3        Restaurant without Liquor          Employee Personal Hygiene  2000   \n",
       "4        Restaurant without Liquor             Handwashing Facilities  2000   \n",
       "\n",
       "               street        city  ...      zip  inspect_dt start_time  \\\n",
       "0  Mt Royal Boulevard  Pittsburgh  ...  15223.0  2014-01-02   12:00:00   \n",
       "1  Mt Royal Boulevard  Pittsburgh  ...  15223.0  2014-01-02   12:00:00   \n",
       "2     E Carson Street  Pittsburgh  ...  15203.0  2014-01-02   11:30:00   \n",
       "3     E Carson Street  Pittsburgh  ...  15203.0  2014-01-02   11:30:00   \n",
       "4     E Carson Street  Pittsburgh  ...  15203.0  2014-01-02   11:30:00   \n",
       "\n",
       "   end_time       municipal rating low medium high  \\\n",
       "0  12:30:00          Shaler      V   F      F    F   \n",
       "1  12:30:00          Shaler      V   F      F    F   \n",
       "2  12:45:00  Pittsburgh-117      V   F      F    F   \n",
       "3  12:45:00  Pittsburgh-117      V   F      F    F   \n",
       "4  12:45:00  Pittsburgh-117      V   F      F    F   \n",
       "\n",
       "                                                 url  \n",
       "0  http://appsrv.alleghenycounty.us/reports/rwser...  \n",
       "1  http://appsrv.alleghenycounty.us/reports/rwser...  \n",
       "2  http://appsrv.alleghenycounty.us/reports/rwser...  \n",
       "3  http://appsrv.alleghenycounty.us/reports/rwser...  \n",
       "4  http://appsrv.alleghenycounty.us/reports/rwser...  \n",
       "\n",
       "[5 rows x 21 columns]"
      ]
     },
     "execution_count": 56,
     "metadata": {},
     "output_type": "execute_result"
    }
   ],
   "source": [
    "import pandas as pd\n",
    "\n",
    "data = pd.read_csv('data/alco-restuarant-violations.csv')\n",
    "data.head()"
   ]
  },
  {
   "cell_type": "markdown",
   "metadata": {},
   "source": [
    "### The Best Neighborhood (According to my Sub-Metric)"
   ]
  },
  {
   "cell_type": "markdown",
   "metadata": {},
   "source": [
    "First, lets begin by simplifying the data down to only the columns we care about. We only want our data sets to include facility name, city, rating, low, medium, and high."
   ]
  },
  {
   "cell_type": "code",
   "execution_count": 57,
   "metadata": {},
   "outputs": [
    {
     "data": {
      "text/html": [
       "<div>\n",
       "<style scoped>\n",
       "    .dataframe tbody tr th:only-of-type {\n",
       "        vertical-align: middle;\n",
       "    }\n",
       "\n",
       "    .dataframe tbody tr th {\n",
       "        vertical-align: top;\n",
       "    }\n",
       "\n",
       "    .dataframe thead th {\n",
       "        text-align: right;\n",
       "    }\n",
       "</style>\n",
       "<table border=\"1\" class=\"dataframe\">\n",
       "  <thead>\n",
       "    <tr style=\"text-align: right;\">\n",
       "      <th></th>\n",
       "      <th>facility_name</th>\n",
       "      <th>city</th>\n",
       "      <th>rating</th>\n",
       "      <th>high</th>\n",
       "      <th>medium</th>\n",
       "      <th>low</th>\n",
       "      <th>zip</th>\n",
       "    </tr>\n",
       "  </thead>\n",
       "  <tbody>\n",
       "    <tr>\n",
       "      <th>0</th>\n",
       "      <td>Vocelli Pizza</td>\n",
       "      <td>Pittsburgh</td>\n",
       "      <td>V</td>\n",
       "      <td>F</td>\n",
       "      <td>F</td>\n",
       "      <td>F</td>\n",
       "      <td>15223.0</td>\n",
       "    </tr>\n",
       "    <tr>\n",
       "      <th>1</th>\n",
       "      <td>Vocelli Pizza</td>\n",
       "      <td>Pittsburgh</td>\n",
       "      <td>V</td>\n",
       "      <td>F</td>\n",
       "      <td>F</td>\n",
       "      <td>F</td>\n",
       "      <td>15223.0</td>\n",
       "    </tr>\n",
       "    <tr>\n",
       "      <th>2</th>\n",
       "      <td>The Groove Cheesesteak Co aka Southside Steaks</td>\n",
       "      <td>Pittsburgh</td>\n",
       "      <td>V</td>\n",
       "      <td>F</td>\n",
       "      <td>F</td>\n",
       "      <td>F</td>\n",
       "      <td>15203.0</td>\n",
       "    </tr>\n",
       "    <tr>\n",
       "      <th>3</th>\n",
       "      <td>The Groove Cheesesteak Co aka Southside Steaks</td>\n",
       "      <td>Pittsburgh</td>\n",
       "      <td>V</td>\n",
       "      <td>F</td>\n",
       "      <td>F</td>\n",
       "      <td>F</td>\n",
       "      <td>15203.0</td>\n",
       "    </tr>\n",
       "    <tr>\n",
       "      <th>4</th>\n",
       "      <td>The Groove Cheesesteak Co aka Southside Steaks</td>\n",
       "      <td>Pittsburgh</td>\n",
       "      <td>V</td>\n",
       "      <td>F</td>\n",
       "      <td>F</td>\n",
       "      <td>F</td>\n",
       "      <td>15203.0</td>\n",
       "    </tr>\n",
       "    <tr>\n",
       "      <th>5</th>\n",
       "      <td>The Groove Cheesesteak Co aka Southside Steaks</td>\n",
       "      <td>Pittsburgh</td>\n",
       "      <td>V</td>\n",
       "      <td>F</td>\n",
       "      <td>F</td>\n",
       "      <td>F</td>\n",
       "      <td>15203.0</td>\n",
       "    </tr>\n",
       "    <tr>\n",
       "      <th>6</th>\n",
       "      <td>The Groove Cheesesteak Co aka Southside Steaks</td>\n",
       "      <td>Pittsburgh</td>\n",
       "      <td>V</td>\n",
       "      <td>F</td>\n",
       "      <td>F</td>\n",
       "      <td>F</td>\n",
       "      <td>15203.0</td>\n",
       "    </tr>\n",
       "    <tr>\n",
       "      <th>7</th>\n",
       "      <td>Station Street Food</td>\n",
       "      <td>Pittsburgh</td>\n",
       "      <td>V</td>\n",
       "      <td>F</td>\n",
       "      <td>F</td>\n",
       "      <td>F</td>\n",
       "      <td>15206.0</td>\n",
       "    </tr>\n",
       "    <tr>\n",
       "      <th>8</th>\n",
       "      <td>Co Go's #346</td>\n",
       "      <td>Homestead</td>\n",
       "      <td>V</td>\n",
       "      <td>F</td>\n",
       "      <td>F</td>\n",
       "      <td>F</td>\n",
       "      <td>15120.0</td>\n",
       "    </tr>\n",
       "    <tr>\n",
       "      <th>9</th>\n",
       "      <td>Co Go's #346</td>\n",
       "      <td>Homestead</td>\n",
       "      <td>V</td>\n",
       "      <td>NaN</td>\n",
       "      <td>NaN</td>\n",
       "      <td>NaN</td>\n",
       "      <td>15120.0</td>\n",
       "    </tr>\n",
       "  </tbody>\n",
       "</table>\n",
       "</div>"
      ],
      "text/plain": [
       "                                    facility_name        city rating high  \\\n",
       "0                                   Vocelli Pizza  Pittsburgh      V    F   \n",
       "1                                   Vocelli Pizza  Pittsburgh      V    F   \n",
       "2  The Groove Cheesesteak Co aka Southside Steaks  Pittsburgh      V    F   \n",
       "3  The Groove Cheesesteak Co aka Southside Steaks  Pittsburgh      V    F   \n",
       "4  The Groove Cheesesteak Co aka Southside Steaks  Pittsburgh      V    F   \n",
       "5  The Groove Cheesesteak Co aka Southside Steaks  Pittsburgh      V    F   \n",
       "6  The Groove Cheesesteak Co aka Southside Steaks  Pittsburgh      V    F   \n",
       "7                             Station Street Food  Pittsburgh      V    F   \n",
       "8                                    Co Go's #346   Homestead      V    F   \n",
       "9                                    Co Go's #346   Homestead      V  NaN   \n",
       "\n",
       "  medium  low      zip  \n",
       "0      F    F  15223.0  \n",
       "1      F    F  15223.0  \n",
       "2      F    F  15203.0  \n",
       "3      F    F  15203.0  \n",
       "4      F    F  15203.0  \n",
       "5      F    F  15203.0  \n",
       "6      F    F  15203.0  \n",
       "7      F    F  15206.0  \n",
       "8      F    F  15120.0  \n",
       "9    NaN  NaN  15120.0  "
      ]
     },
     "execution_count": 57,
     "metadata": {},
     "output_type": "execute_result"
    }
   ],
   "source": [
    "import pandas as pd\n",
    "import math\n",
    "\n",
    "data = pd.read_csv('data/alco-restuarant-violations.csv')\n",
    "newdata = data[['facility_name','city', 'rating', 'high', 'medium', 'low', \"zip\"]]\n",
    "\n",
    "#for i, report in newdata.iterrows():\n",
    "    #if(not math.isnan(newdata.at[i, \"zip\"])):\n",
    "        #newdata.at[i, \"zip\"] = int(newdata.at[i, \"zip\"])\n",
    "        \n",
    "newdata.head(10)"
   ]
  },
  {
   "cell_type": "markdown",
   "metadata": {},
   "source": [
    "Next, we will split all the restraunts into 2 seperate groups, regarding their rating. Group V does not pass inspection and has a violation, meanwhile Group N passes inspection with no violations."
   ]
  },
  {
   "cell_type": "code",
   "execution_count": 59,
   "metadata": {},
   "outputs": [
    {
     "data": {
      "image/png": "[encoded data removed]",
      "text/plain": [
       "<Figure size 720x432 with 1 Axes>"
      ]
     },
     "metadata": {
      "needs_background": "light"
     },
     "output_type": "display_data"
    }
   ],
   "source": [
    "import pandas as pd\n",
    "import matplotlib.pyplot as plt\n",
    "\n",
    "data = pd.read_csv('data/alco-restuarant-violations.csv')\n",
    "newdata2 = data[['facility_name', 'rating']]\n",
    "\n",
    "# Group the data by rating and count the number of facilities in each rating category\n",
    "rating_counts = newdata2.groupby('rating').count()\n",
    "\n",
    "# Create a bar chart\n",
    "ax = rating_counts.plot(kind='bar', figsize=(10, 6), rot=0)\n",
    "\n",
    "# Set the chart title and axis labels\n",
    "ax.set_title('Number of Facilities by Rating')\n",
    "ax.set_xlabel('Rating')\n",
    "ax.set_ylabel('Number of Facilities')\n",
    "\n",
    "# Show the chart\n",
    "plt.show()"
   ]
  },
  {
   "cell_type": "markdown",
   "metadata": {},
   "source": [
    "Now we want to count the number of restraunts in each neighborhood that have a violation. In order to do this we must import the geoemtric data using geopandas to find the neighborhood locations."
   ]
  },
  {
   "cell_type": "code",
   "execution_count": 60,
   "metadata": {},
   "outputs": [],
   "source": [
    "import pandas as pd\n",
    "import geopandas as gdp\n",
    "import requests\n",
    "from io import StringIO\n",
    "import matplotlib.pyplot as plt\n",
    "\n",
    "neighborhoods_url = 'https://data.wprdc.org/datastore/dump/668d7238-cfd2-492e-b397-51a6e74182ff'\n",
    "\n",
    "response_neighborhoods = requests.get(neighborhoods_url)\n",
    "csv_data_neighborhoods = StringIO(response_neighborhoods.text)\n",
    "\n",
    "df_neighborhoods = pd.read_csv(csv_data_neighborhoods)\n",
    "\n",
    "url_neighborhood_boundaries = 'https://data.wprdc.org/dataset/e672f13d-71c4-4a66-8f38-710e75ed80a4/resource/4af8e160-57e9-4ebf-a501-76ca1b42fc99/download/pittsburghpaneighborhoods-.geojson'\n",
    "gdf_neighborhood_boundaries = gdp.read_file(url_neighborhood_boundaries)\n",
    "gdf_neighborhood_boundaries[\"Violations\"] = 0\n",
    "gdf_neighborhood_boundaries[\"zip_code\"] = None\n",
    "\n",
    "main_dataset = gdf_neighborhood_boundaries[[\"hood\", \"geometry\", \"Violations\", \"zip_code\"]]\n",
    "zip_boundaries = gdp.read_file(\"data/Allegheny_County_Zip_Code_Boundaries.geojson\")\n",
    "\n",
    "zip_boundaries.head(10)\n",
    "\n",
    "for i, thing in zip_boundaries.iterrows():\n",
    "    for j, otherthing in main_dataset.iterrows():\n",
    "        if thing[\"geometry\"].intersects(otherthing[\"geometry\"]):\n",
    "            main_dataset.at[j, \"zip_code\"] = zip_boundaries.at[i, \"ZIP\"]\n",
    "\n",
    "temp_data = newdata[newdata[\"rating\"] == \"V\"]\n",
    "\n",
    "#here we want to iterate through violation data (newdata) and increment Violation counter in main_dataset\n",
    "\n",
    "test = temp_data.value_counts(\"zip\")\n",
    "for zip_index, count in test.items():\n",
    "    for q, hood in main_dataset.iterrows():\n",
    "        if zip_index == float(main_dataset.at[q, \"zip_code\"]):\n",
    "            main_dataset.at[q, \"Violations\"] = count\n"
   ]
  },
  {
   "cell_type": "markdown",
   "metadata": {},
   "source": [
    "Now that we have the data in our main dataframe, let's plot it to gain a visual understanding:"
   ]
  },
  {
   "cell_type": "code",
   "execution_count": 61,
   "metadata": {},
   "outputs": [
    {
     "data": {
      "text/plain": [
       "<matplotlib.axes._subplots.AxesSubplot at 0x7f4dd72cb190>"
      ]
     },
     "execution_count": 61,
     "metadata": {},
     "output_type": "execute_result"
    },
    {
     "data": {
      "image/png": "[encoded data removed]",
      "text/plain": [
       "<Figure size 1080x720 with 2 Axes>"
      ]
     },
     "metadata": {
      "needs_background": "light"
     },
     "output_type": "display_data"
    }
   ],
   "source": [
    "main_dataset.plot(column=\"Violations\", legend=True, figsize=(15, 10))"
   ]
  },
  {
   "cell_type": "markdown",
   "metadata": {},
   "source": [
    "Finally, let's put the data in order to see which areas have the most violations:"
   ]
  },
  {
   "cell_type": "code",
   "execution_count": 62,
   "metadata": {},
   "outputs": [
    {
     "data": {
      "text/plain": [
       "<matplotlib.axes._subplots.AxesSubplot at 0x7f4dd620c4f0>"
      ]
     },
     "execution_count": 62,
     "metadata": {},
     "output_type": "execute_result"
    },
    {
     "data": {
      "image/png": "[encoded data removed]",
      "text/plain": [
       "<Figure size 432x288 with 1 Axes>"
      ]
     },
     "metadata": {
      "needs_background": "light"
     },
     "output_type": "display_data"
    }
   ],
   "source": [
    "worst = main_dataset.sort_values(\"Violations\", ascending=False)\n",
    "worst = worst[[\"hood\", \"Violations\"]]\n",
    "worst = worst[0:20]\n",
    "worst.plot.bar(\"hood\", \"Violations\")"
   ]
  },
  {
   "cell_type": "code",
   "execution_count": 63,
   "metadata": {},
   "outputs": [
    {
     "data": {
      "text/plain": [
       "<matplotlib.axes._subplots.AxesSubplot at 0x7f4dd63b4d00>"
      ]
     },
     "execution_count": 63,
     "metadata": {},
     "output_type": "execute_result"
    },
    {
     "data": {
      "image/png": "[encoded data removed]",
      "text/plain": [
       "<Figure size 432x288 with 1 Axes>"
      ]
     },
     "metadata": {
      "needs_background": "light"
     },
     "output_type": "display_data"
    }
   ],
   "source": [
    "best = main_dataset.sort_values(\"Violations\", ascending=True)\n",
    "best = best[[\"hood\", \"Violations\"]]\n",
    "best = best[0:20]\n",
    "best.plot.bar(\"hood\", \"Violations\")"
   ]
  },
  {
   "cell_type": "markdown",
   "metadata": {},
   "source": [
    "### Submetric #3: Conclusion/Results"
   ]
  },
  {
   "cell_type": "markdown",
   "metadata": {},
   "source": [
    "Based on the above graphs, we see that neighborhoods like Windgap, Fairywood, Oakwood, Crafton Heights, Westwood, and East Carnegie all have the most food safety violations. It is important to note that this data is relative to the number of restaurants in each area/zip-code, so it is possible that some zip-codes simply have more restaurants than others. Nonetheless, the data presented here shows that these neighborhoods have the least food-safe prepared food dining options.\n",
    "\n",
    "On the other hand, neighborhoods like Fineview, Perry South, Summer Hill, etc. belong to the area with the least food safety violations."
   ]
  },
  {
   "cell_type": "markdown",
   "metadata": {},
   "source": [
    "## Meta-Analysis"
   ]
  },
  {
   "cell_type": "code",
   "execution_count": 70,
   "metadata": {},
   "outputs": [
    {
     "data": {
      "text/html": [
       "<div>\n",
       "<style scoped>\n",
       "    .dataframe tbody tr th:only-of-type {\n",
       "        vertical-align: middle;\n",
       "    }\n",
       "\n",
       "    .dataframe tbody tr th {\n",
       "        vertical-align: top;\n",
       "    }\n",
       "\n",
       "    .dataframe thead th {\n",
       "        text-align: right;\n",
       "    }\n",
       "</style>\n",
       "<table border=\"1\" class=\"dataframe\">\n",
       "  <thead>\n",
       "    <tr style=\"text-align: right;\">\n",
       "      <th></th>\n",
       "      <th>hood</th>\n",
       "      <th>geometry</th>\n",
       "      <th>Grocery Density</th>\n",
       "      <th>Grow_Gardens</th>\n",
       "      <th>Violations</th>\n",
       "    </tr>\n",
       "  </thead>\n",
       "  <tbody>\n",
       "    <tr>\n",
       "      <th>0</th>\n",
       "      <td>Central Oakland</td>\n",
       "      <td>POLYGON ((-79.95304 40.44203, -79.95302 40.442...</td>\n",
       "      <td>0.129291</td>\n",
       "      <td>0</td>\n",
       "      <td>1853</td>\n",
       "    </tr>\n",
       "    <tr>\n",
       "      <th>1</th>\n",
       "      <td>North Oakland</td>\n",
       "      <td>POLYGON ((-79.95455 40.45882, -79.95427 40.458...</td>\n",
       "      <td>0.072917</td>\n",
       "      <td>1</td>\n",
       "      <td>1161</td>\n",
       "    </tr>\n",
       "    <tr>\n",
       "      <th>2</th>\n",
       "      <td>West Oakland</td>\n",
       "      <td>POLYGON ((-79.96230 40.44294, -79.96220 40.442...</td>\n",
       "      <td>0.000000</td>\n",
       "      <td>3</td>\n",
       "      <td>1161</td>\n",
       "    </tr>\n",
       "    <tr>\n",
       "      <th>3</th>\n",
       "      <td>Crawford-Roberts</td>\n",
       "      <td>POLYGON ((-79.98275 40.44641, -79.98273 40.446...</td>\n",
       "      <td>0.140764</td>\n",
       "      <td>1</td>\n",
       "      <td>1161</td>\n",
       "    </tr>\n",
       "    <tr>\n",
       "      <th>4</th>\n",
       "      <td>Strip District</td>\n",
       "      <td>POLYGON ((-79.97494 40.45629, -79.97484 40.456...</td>\n",
       "      <td>0.239263</td>\n",
       "      <td>0</td>\n",
       "      <td>1161</td>\n",
       "    </tr>\n",
       "  </tbody>\n",
       "</table>\n",
       "</div>"
      ],
      "text/plain": [
       "               hood                                           geometry  \\\n",
       "0   Central Oakland  POLYGON ((-79.95304 40.44203, -79.95302 40.442...   \n",
       "1     North Oakland  POLYGON ((-79.95455 40.45882, -79.95427 40.458...   \n",
       "2      West Oakland  POLYGON ((-79.96230 40.44294, -79.96220 40.442...   \n",
       "3  Crawford-Roberts  POLYGON ((-79.98275 40.44641, -79.98273 40.446...   \n",
       "4    Strip District  POLYGON ((-79.97494 40.45629, -79.97484 40.456...   \n",
       "\n",
       "   Grocery Density  Grow_Gardens  Violations  \n",
       "0         0.129291             0        1853  \n",
       "1         0.072917             1        1161  \n",
       "2         0.000000             3        1161  \n",
       "3         0.140764             1        1161  \n",
       "4         0.239263             0        1161  "
      ]
     },
     "execution_count": 70,
     "metadata": {},
     "output_type": "execute_result"
    }
   ],
   "source": [
    "import geopandas as gpd\n",
    "final_neighborhoods = gpd.read_file(\"data/Neighborhoods/Neighborhoods_.shp\") # read in the shapefile\n",
    "    \n",
    "final_neighborhoods = final_neighborhoods[[\"hood\", \"geometry\"]]\n",
    "final_neighborhoods[\"Grocery Density\"] = 0\n",
    "final_neighborhoods[\"Grow_Gardens\"] = 0\n",
    "final_neighborhoods[\"Violations\"] = 0\n",
    "\n",
    "for i, hood in final_neighborhoods.iterrows():\n",
    "    final_neighborhoods.at[i, \"Grocery Density\"] = numEach.at[i, \"Grocery Density\"]\n",
    "    final_neighborhoods.at[i, \"Grow_Gardens\"] = mason_neighborhoods.at[i, \"Grow_Gardens\"]\n",
    "    \n",
    "for j, area in main_dataset.iterrows():\n",
    "    for k, place in final_neighborhoods.iterrows():\n",
    "        if main_dataset.at[j, \"hood\"] == final_neighborhoods.at[k, \"hood\"]:\n",
    "            final_neighborhoods.at[k, \"Violations\"] = main_dataset.at[j, \"Violations\"]\n",
    "    \n",
    "final_neighborhoods.head()"
   ]
  },
  {
   "cell_type": "markdown",
   "metadata": {},
   "source": [
    "Now that we have all of the data in one place, how do we determine the winner? We decided to use the following formula to assign each neighborhood a \"score\" based on weighted performance in each metric:"
   ]
  },
  {
   "cell_type": "code",
   "execution_count": 71,
   "metadata": {},
   "outputs": [
    {
     "data": {
      "text/html": [
       "<div>\n",
       "<style scoped>\n",
       "    .dataframe tbody tr th:only-of-type {\n",
       "        vertical-align: middle;\n",
       "    }\n",
       "\n",
       "    .dataframe tbody tr th {\n",
       "        vertical-align: top;\n",
       "    }\n",
       "\n",
       "    .dataframe thead th {\n",
       "        text-align: right;\n",
       "    }\n",
       "</style>\n",
       "<table border=\"1\" class=\"dataframe\">\n",
       "  <thead>\n",
       "    <tr style=\"text-align: right;\">\n",
       "      <th></th>\n",
       "      <th>hood</th>\n",
       "      <th>geometry</th>\n",
       "      <th>Grocery Density</th>\n",
       "      <th>Grow_Gardens</th>\n",
       "      <th>Violations</th>\n",
       "      <th>score</th>\n",
       "    </tr>\n",
       "  </thead>\n",
       "  <tbody>\n",
       "    <tr>\n",
       "      <th>77</th>\n",
       "      <td>East Liberty</td>\n",
       "      <td>POLYGON ((-79.91581 40.46088, -79.91580 40.460...</td>\n",
       "      <td>0.125125</td>\n",
       "      <td>4</td>\n",
       "      <td>608</td>\n",
       "      <td>46.432499</td>\n",
       "    </tr>\n",
       "    <tr>\n",
       "      <th>48</th>\n",
       "      <td>Friendship</td>\n",
       "      <td>POLYGON ((-79.93095 40.46304, -79.93098 40.462...</td>\n",
       "      <td>0.342413</td>\n",
       "      <td>1</td>\n",
       "      <td>624</td>\n",
       "      <td>38.001252</td>\n",
       "    </tr>\n",
       "    <tr>\n",
       "      <th>33</th>\n",
       "      <td>Point Breeze</td>\n",
       "      <td>POLYGON ((-79.89526 40.44717, -79.89517 40.447...</td>\n",
       "      <td>0.000000</td>\n",
       "      <td>4</td>\n",
       "      <td>327</td>\n",
       "      <td>36.730000</td>\n",
       "    </tr>\n",
       "    <tr>\n",
       "      <th>37</th>\n",
       "      <td>Garfield</td>\n",
       "      <td>POLYGON ((-79.92961 40.46528, -79.92994 40.464...</td>\n",
       "      <td>0.000000</td>\n",
       "      <td>4</td>\n",
       "      <td>608</td>\n",
       "      <td>33.920000</td>\n",
       "    </tr>\n",
       "    <tr>\n",
       "      <th>31</th>\n",
       "      <td>Bloomfield</td>\n",
       "      <td>POLYGON ((-79.93939 40.46454, -79.93933 40.464...</td>\n",
       "      <td>0.155364</td>\n",
       "      <td>2</td>\n",
       "      <td>608</td>\n",
       "      <td>29.456431</td>\n",
       "    </tr>\n",
       "    <tr>\n",
       "      <th>...</th>\n",
       "      <td>...</td>\n",
       "      <td>...</td>\n",
       "      <td>...</td>\n",
       "      <td>...</td>\n",
       "      <td>...</td>\n",
       "      <td>...</td>\n",
       "    </tr>\n",
       "    <tr>\n",
       "      <th>78</th>\n",
       "      <td>East Carnegie</td>\n",
       "      <td>POLYGON ((-80.07255 40.42533, -80.07245 40.424...</td>\n",
       "      <td>0.000000</td>\n",
       "      <td>0</td>\n",
       "      <td>1954</td>\n",
       "      <td>-19.540000</td>\n",
       "    </tr>\n",
       "    <tr>\n",
       "      <th>83</th>\n",
       "      <td>Fairywood</td>\n",
       "      <td>POLYGON ((-80.08804 40.45975, -80.08803 40.459...</td>\n",
       "      <td>0.000000</td>\n",
       "      <td>0</td>\n",
       "      <td>1954</td>\n",
       "      <td>-19.540000</td>\n",
       "    </tr>\n",
       "    <tr>\n",
       "      <th>47</th>\n",
       "      <td>Windgap</td>\n",
       "      <td>POLYGON ((-80.07321 40.45993, -80.07320 40.459...</td>\n",
       "      <td>0.000000</td>\n",
       "      <td>0</td>\n",
       "      <td>1954</td>\n",
       "      <td>-19.540000</td>\n",
       "    </tr>\n",
       "    <tr>\n",
       "      <th>60</th>\n",
       "      <td>Crafton Heights</td>\n",
       "      <td>POLYGON ((-80.04222 40.44447, -80.04241 40.444...</td>\n",
       "      <td>0.000000</td>\n",
       "      <td>0</td>\n",
       "      <td>1954</td>\n",
       "      <td>-19.540000</td>\n",
       "    </tr>\n",
       "    <tr>\n",
       "      <th>76</th>\n",
       "      <td>Oakwood</td>\n",
       "      <td>POLYGON ((-80.06442 40.42875, -80.06322 40.427...</td>\n",
       "      <td>0.000000</td>\n",
       "      <td>0</td>\n",
       "      <td>1954</td>\n",
       "      <td>-19.540000</td>\n",
       "    </tr>\n",
       "  </tbody>\n",
       "</table>\n",
       "<p>90 rows × 6 columns</p>\n",
       "</div>"
      ],
      "text/plain": [
       "               hood                                           geometry  \\\n",
       "77     East Liberty  POLYGON ((-79.91581 40.46088, -79.91580 40.460...   \n",
       "48       Friendship  POLYGON ((-79.93095 40.46304, -79.93098 40.462...   \n",
       "33     Point Breeze  POLYGON ((-79.89526 40.44717, -79.89517 40.447...   \n",
       "37         Garfield  POLYGON ((-79.92961 40.46528, -79.92994 40.464...   \n",
       "31       Bloomfield  POLYGON ((-79.93939 40.46454, -79.93933 40.464...   \n",
       "..              ...                                                ...   \n",
       "78    East Carnegie  POLYGON ((-80.07255 40.42533, -80.07245 40.424...   \n",
       "83        Fairywood  POLYGON ((-80.08804 40.45975, -80.08803 40.459...   \n",
       "47          Windgap  POLYGON ((-80.07321 40.45993, -80.07320 40.459...   \n",
       "60  Crafton Heights  POLYGON ((-80.04222 40.44447, -80.04241 40.444...   \n",
       "76          Oakwood  POLYGON ((-80.06442 40.42875, -80.06322 40.427...   \n",
       "\n",
       "    Grocery Density  Grow_Gardens  Violations      score  \n",
       "77         0.125125             4         608  46.432499  \n",
       "48         0.342413             1         624  38.001252  \n",
       "33         0.000000             4         327  36.730000  \n",
       "37         0.000000             4         608  33.920000  \n",
       "31         0.155364             2         608  29.456431  \n",
       "..              ...           ...         ...        ...  \n",
       "78         0.000000             0        1954 -19.540000  \n",
       "83         0.000000             0        1954 -19.540000  \n",
       "47         0.000000             0        1954 -19.540000  \n",
       "60         0.000000             0        1954 -19.540000  \n",
       "76         0.000000             0        1954 -19.540000  \n",
       "\n",
       "[90 rows x 6 columns]"
      ]
     },
     "execution_count": 71,
     "metadata": {},
     "output_type": "execute_result"
    }
   ],
   "source": [
    "final_neighborhoods[\"score\"] = 0\n",
    "\n",
    "# we don't have violation data for all of the neighborhoods so we unfortunately have to restrict our final analysis a bit\n",
    "#final_neighborhoods = final_neighborhoods[final_neighborhoods[\"Violations\"] > 0]\n",
    "\n",
    "for i, hood in final_neighborhoods.iterrows():\n",
    "    final_neighborhoods.at[i, \"score\"] = (100 * final_neighborhoods.at[i, \"Grocery Density\"]) + (10 * final_neighborhoods.at[i, \"Grow_Gardens\"]) - (10 * (final_neighborhoods.at[i, \"Violations\"] / 1000))\n",
    "    \n",
    "final_neighborhoods.sort_values(\"score\", ascending=False)"
   ]
  },
  {
   "cell_type": "markdown",
   "metadata": {},
   "source": [
    "In other words, a neighborhoods \"score\" is equal to 100 times its grocery store density plus 10 times the number of grow gardens it has minus 10 times the number of violations it has over 20. We chose this score mechanism for a few reasons. First, it causes upsets and doesn't let grocery density dominate the conversation. For example, Point Breeze has a high score (despite not having any recorded grocery stores) because it has so many grow gardens. Moreover, dividing the number of violations by 1000 allows a neighborhood's violations to \"balance out\" the advantage it gains from having a lot of grow gardens."
   ]
  },
  {
   "cell_type": "markdown",
   "metadata": {},
   "source": [
    "### The Winner is East Liberty!!!"
   ]
  },
  {
   "cell_type": "code",
   "execution_count": 76,
   "metadata": {},
   "outputs": [
    {
     "data": {
      "text/plain": [
       "<matplotlib.axes._subplots.AxesSubplot at 0x7f4dd6e186d0>"
      ]
     },
     "execution_count": 76,
     "metadata": {},
     "output_type": "execute_result"
    },
    {
     "data": {
      "image/png": "[encoded data removed]",
      "text/plain": [
       "<Figure size 1080x720 with 2 Axes>"
      ]
     },
     "metadata": {
      "needs_background": "light"
     },
     "output_type": "display_data"
    }
   ],
   "source": [
    "final_neighborhoods.plot(column=\"score\", figsize=(15, 10), legend=True)"
   ]
  },
  {
   "cell_type": "markdown",
   "metadata": {},
   "source": [
    "## Final Conclusion/Thoughts"
   ]
  },
  {
   "cell_type": "markdown",
   "metadata": {},
   "source": [
    "**Ben:**\n",
    "\n",
    "**Mason:**\n",
    "\n",
    "**Dom:**"
   ]
  },
  {
   "cell_type": "code",
   "execution_count": null,
   "metadata": {},
   "outputs": [],
   "source": []
  }
 ],
 "metadata": {
  "kernelspec": {
   "display_name": "Python 3",
   "language": "python",
   "name": "python3"
  },
  "language_info": {
   "codemirror_mode": {
    "name": "ipython",
    "version": 3
   },
   "file_extension": ".py",
   "mimetype": "text/x-python",
   "name": "python",
   "nbconvert_exporter": "python",
   "pygments_lexer": "ipython3",
   "version": "3.8.3"
  }
 },
 "nbformat": 4,
 "nbformat_minor": 4
}
