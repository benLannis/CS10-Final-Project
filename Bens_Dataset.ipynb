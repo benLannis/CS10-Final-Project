{
 "cells": [
  {
   "cell_type": "markdown",
   "metadata": {},
   "source": [
    "# CMPINF-0010 Final Project (The Foodies)"
   ]
  },
  {
   "cell_type": "markdown",
   "metadata": {},
   "source": [
    "## Introduction - The Metric\n",
    "Our overall metric for finding the \"best\" neighborhood in Pittsburgh is determining which neighborhood has the best food, so access to groceries plays an important role. Beyond just the number of grocery/convenience stores in a neighborhood (which can be affected by land area), I'll examine the density to determine which neighborhood's residents have the most accessible groceries near where they live."
   ]
  },
  {
   "cell_type": "markdown",
   "metadata": {},
   "source": [
    "## My Sub-metric: Density of convenience stores (food deserts)"
   ]
  },
  {
   "cell_type": "markdown",
   "metadata": {},
   "source": [
    "![community mart](https://static.timesofisrael.com/jewishchronicle/uploads/2021/09/image_6487327-640x400.jpg)"
   ]
  },
  {
   "cell_type": "markdown",
   "metadata": {},
   "source": [
    "## Goal of my analysis:\n",
    "My sub-metric is density of grocery/convenience stores. Food deserts present a major challenge in low-income communities, so I want to know which neighborhoods are most/least affected by this phenomenon. Along the way, I'll determine which neighborhood has the msot access to local groceries as well as which neighborhoods are overlooked (and the socioeconomic factors that explain why)."
   ]
  },
  {
   "cell_type": "markdown",
   "metadata": {},
   "source": [
    "## My Dataset\n",
    "Title: Allegheny County Supermarkets & Convenience Stores\n",
    "Description: This dataset lists the name, address, coordinates, and type (either grocery or convenience store) of food locations in Allegheny County."
   ]
  },
  {
   "cell_type": "markdown",
   "metadata": {},
   "source": [
    "## Data Preview:"
   ]
  },
  {
   "cell_type": "code",
   "execution_count": 3,
   "metadata": {},
   "outputs": [
    {
     "data": {
      "text/html": [
       "<div>\n",
       "<style scoped>\n",
       "    .dataframe tbody tr th:only-of-type {\n",
       "        vertical-align: middle;\n",
       "    }\n",
       "\n",
       "    .dataframe tbody tr th {\n",
       "        vertical-align: top;\n",
       "    }\n",
       "\n",
       "    .dataframe thead th {\n",
       "        text-align: right;\n",
       "    }\n",
       "</style>\n",
       "<table border=\"1\" class=\"dataframe\">\n",
       "  <thead>\n",
       "    <tr style=\"text-align: right;\">\n",
       "      <th></th>\n",
       "      <th>Client ID</th>\n",
       "      <th>Name</th>\n",
       "      <th>Legal Name</th>\n",
       "      <th>Start Date</th>\n",
       "      <th>Street #</th>\n",
       "      <th>Street Name</th>\n",
       "      <th>State</th>\n",
       "      <th>Zip</th>\n",
       "      <th>Lat</th>\n",
       "      <th>Lon</th>\n",
       "      <th>Accuracy</th>\n",
       "      <th>Category</th>\n",
       "    </tr>\n",
       "  </thead>\n",
       "  <tbody>\n",
       "    <tr>\n",
       "      <th>0</th>\n",
       "      <td>201211150002</td>\n",
       "      <td>Avalon Fuel</td>\n",
       "      <td>Avalon Fuel Company</td>\n",
       "      <td>10/26/2012</td>\n",
       "      <td>901</td>\n",
       "      <td>Ohio River Blvd</td>\n",
       "      <td>PA</td>\n",
       "      <td>15202.0</td>\n",
       "      <td>40.495759</td>\n",
       "      <td>-80.066508</td>\n",
       "      <td>9.0</td>\n",
       "      <td>Convenience Store</td>\n",
       "    </tr>\n",
       "    <tr>\n",
       "      <th>1</th>\n",
       "      <td>201511040005</td>\n",
       "      <td>Ez Energy #303/7Eleven #36183H</td>\n",
       "      <td>Neelkanth Ansh Enterprises Inc</td>\n",
       "      <td>10/26/2015</td>\n",
       "      <td>209</td>\n",
       "      <td>Ohio River Blvd</td>\n",
       "      <td>PA</td>\n",
       "      <td>15143.0</td>\n",
       "      <td>40.545418</td>\n",
       "      <td>-80.194152</td>\n",
       "      <td>9.0</td>\n",
       "      <td>Convenience Store</td>\n",
       "    </tr>\n",
       "    <tr>\n",
       "      <th>2</th>\n",
       "      <td>201212130003</td>\n",
       "      <td>EZ Energy #311 / 7 Eleven #36191H</td>\n",
       "      <td>7 Eleven Inc</td>\n",
       "      <td>12/3/2012</td>\n",
       "      <td>8136</td>\n",
       "      <td>Ohio River Blvd</td>\n",
       "      <td>PA</td>\n",
       "      <td>15202.0</td>\n",
       "      <td>40.510522</td>\n",
       "      <td>-80.094268</td>\n",
       "      <td>9.0</td>\n",
       "      <td>Convenience Store</td>\n",
       "    </tr>\n",
       "    <tr>\n",
       "      <th>3</th>\n",
       "      <td>201211190006</td>\n",
       "      <td>Getgo #3646 / Crafton - Ingram</td>\n",
       "      <td>Giant Eagle Inc</td>\n",
       "      <td>11/15/2012</td>\n",
       "      <td>280</td>\n",
       "      <td>Crafton Ingram Shopping circle</td>\n",
       "      <td>PA</td>\n",
       "      <td>15205.0</td>\n",
       "      <td>41.203322</td>\n",
       "      <td>-77.194525</td>\n",
       "      <td>3.0</td>\n",
       "      <td>Convenience Store</td>\n",
       "    </tr>\n",
       "    <tr>\n",
       "      <th>4</th>\n",
       "      <td>53583</td>\n",
       "      <td>Mt NeBlvd Texaco</td>\n",
       "      <td>Mt NeBlvd Texaco</td>\n",
       "      <td>6/2/1995</td>\n",
       "      <td>1706</td>\n",
       "      <td>Mt Nebo Rd</td>\n",
       "      <td>PA</td>\n",
       "      <td>15143.0</td>\n",
       "      <td>40.553281</td>\n",
       "      <td>-80.109158</td>\n",
       "      <td>8.0</td>\n",
       "      <td>Convenience Store</td>\n",
       "    </tr>\n",
       "  </tbody>\n",
       "</table>\n",
       "</div>"
      ],
      "text/plain": [
       "      Client ID                               Name  \\\n",
       "0  201211150002                        Avalon Fuel   \n",
       "1  201511040005     Ez Energy #303/7Eleven #36183H   \n",
       "2  201212130003  EZ Energy #311 / 7 Eleven #36191H   \n",
       "3  201211190006     Getgo #3646 / Crafton - Ingram   \n",
       "4         53583                   Mt NeBlvd Texaco   \n",
       "\n",
       "                       Legal Name  Start Date Street #  \\\n",
       "0             Avalon Fuel Company  10/26/2012      901   \n",
       "1  Neelkanth Ansh Enterprises Inc  10/26/2015      209   \n",
       "2                    7 Eleven Inc   12/3/2012     8136   \n",
       "3                 Giant Eagle Inc  11/15/2012      280   \n",
       "4                Mt NeBlvd Texaco    6/2/1995     1706   \n",
       "\n",
       "                      Street Name State      Zip        Lat        Lon  \\\n",
       "0                 Ohio River Blvd    PA  15202.0  40.495759 -80.066508   \n",
       "1                 Ohio River Blvd    PA  15143.0  40.545418 -80.194152   \n",
       "2                 Ohio River Blvd    PA  15202.0  40.510522 -80.094268   \n",
       "3  Crafton Ingram Shopping circle    PA  15205.0  41.203322 -77.194525   \n",
       "4                      Mt Nebo Rd    PA  15143.0  40.553281 -80.109158   \n",
       "\n",
       "   Accuracy           Category  \n",
       "0       9.0  Convenience Store  \n",
       "1       9.0  Convenience Store  \n",
       "2       9.0  Convenience Store  \n",
       "3       3.0  Convenience Store  \n",
       "4       8.0  Convenience Store  "
      ]
     },
     "execution_count": 3,
     "metadata": {},
     "output_type": "execute_result"
    }
   ],
   "source": [
    "import pandas as pd\n",
    "import geopandas as gpd\n",
    "\n",
    "file_name = \"conveniencesupermarket.csv\"\n",
    "data = pd.read_csv(file_name)\n",
    "data.head()"
   ]
  },
  {
   "cell_type": "markdown",
   "metadata": {},
   "source": [
    "### The Best Neighborhood (In terms of my sub-metric)"
   ]
  },
  {
   "cell_type": "code",
   "execution_count": 5,
   "metadata": {},
   "outputs": [],
   "source": [
    "#code here"
   ]
  },
  {
   "cell_type": "markdown",
   "metadata": {},
   "source": [
    "## Conclusion\n",
    "Conclusion here."
   ]
  }
 ],
 "metadata": {
  "kernelspec": {
   "display_name": "Python 3",
   "language": "python",
   "name": "python3"
  },
  "language_info": {
   "codemirror_mode": {
    "name": "ipython",
    "version": 3
   },
   "file_extension": ".py",
   "mimetype": "text/x-python",
   "name": "python",
   "nbconvert_exporter": "python",
   "pygments_lexer": "ipython3",
   "version": "3.8.3"
  }
 },
 "nbformat": 4,
 "nbformat_minor": 4
}
