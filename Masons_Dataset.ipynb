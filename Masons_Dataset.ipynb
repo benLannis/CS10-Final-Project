{
 "cells": [
  {
   "cell_type": "markdown",
   "metadata": {},
   "source": [
    "# CMPINF-0010 Final Project (The Foodies)"
   ]
  },
  {
   "cell_type": "markdown",
   "metadata": {},
   "source": [
    "## Introduction - The Metric"
   ]
  },
  {
   "cell_type": "markdown",
   "metadata": {},
   "source": [
    "We have decided that the neighborhood with the best food is the best neighborhood in Pittsburgh. I am going to determine how many grow gardens are in each neighborhood, and use that data to determine what I believe to be the best neighborhood in Pittsburgh. "
   ]
  },
  {
   "cell_type": "markdown",
   "metadata": {},
   "source": [
    "## My Sub-metric: Grow gardens per neighborhood"
   ]
  },
  {
   "attachments": {
    "4911ceee-0a9b-4877-88c0-34ad65661365.jpg": {
     "image/jpeg": "[encoded data removed]"
    }
   },
   "cell_type": "markdown",
   "metadata": {},
   "source": [
    "![Garden Image](attachment:4911ceee-0a9b-4877-88c0-34ad65661365.jpg)"
   ]
  },
  {
   "cell_type": "markdown",
   "metadata": {},
   "source": [
    "## Goal of my analysis "
   ]
  },
  {
   "cell_type": "markdown",
   "metadata": {},
   "source": [
    "My submetric is how many grow gardens are in each neighborhood. More gardens in a neighborhood correlates to a better Pittsburgh neighborhood, and my group will use this, and their two metrics in order to find the true best neighborhood in Pittsburgh. "
   ]
  },
  {
   "cell_type": "markdown",
   "metadata": {},
   "source": [
    "## My Dataset"
   ]
  },
  {
   "cell_type": "markdown",
   "metadata": {},
   "source": [
    "I will begin my exploration by loading in the dataset and viewing a few of the rows. "
   ]
  },
  {
   "cell_type": "code",
   "execution_count": 19,
   "metadata": {},
   "outputs": [
    {
     "data": {
      "text/html": [
       "<div>\n",
       "<style scoped>\n",
       "    .dataframe tbody tr th:only-of-type {\n",
       "        vertical-align: middle;\n",
       "    }\n",
       "\n",
       "    .dataframe tbody tr th {\n",
       "        vertical-align: top;\n",
       "    }\n",
       "\n",
       "    .dataframe thead th {\n",
       "        text-align: right;\n",
       "    }\n",
       "</style>\n",
       "<table border=\"1\" class=\"dataframe\">\n",
       "  <thead>\n",
       "    <tr style=\"text-align: right;\">\n",
       "      <th></th>\n",
       "      <th>urban_grower</th>\n",
       "      <th>grower_id</th>\n",
       "      <th>category</th>\n",
       "      <th>url</th>\n",
       "      <th>street_address</th>\n",
       "      <th>city</th>\n",
       "      <th>state</th>\n",
       "      <th>zip_code</th>\n",
       "      <th>country</th>\n",
       "      <th>latitude</th>\n",
       "      <th>longitude</th>\n",
       "    </tr>\n",
       "  </thead>\n",
       "  <tbody>\n",
       "    <tr>\n",
       "      <th>0</th>\n",
       "      <td>Angora Gardens</td>\n",
       "      <td>584</td>\n",
       "      <td>sustainability-fund-site|other</td>\n",
       "      <td>https://www.growpittsburgh.org/directory/garde...</td>\n",
       "      <td>3 Muse Lane</td>\n",
       "      <td>White Oak</td>\n",
       "      <td>Pennsylvania</td>\n",
       "      <td>15131.0</td>\n",
       "      <td>US</td>\n",
       "      <td>40.404686</td>\n",
       "      <td>-79.862095</td>\n",
       "    </tr>\n",
       "    <tr>\n",
       "      <th>1</th>\n",
       "      <td>Everybody's Garden</td>\n",
       "      <td>586</td>\n",
       "      <td>sustainability-fund-site|other</td>\n",
       "      <td>https://www.growpittsburgh.org/directory/garde...</td>\n",
       "      <td>301 West Elizabeth Street</td>\n",
       "      <td>Pittsburgh</td>\n",
       "      <td>Pennsylvania</td>\n",
       "      <td>15207.0</td>\n",
       "      <td>US</td>\n",
       "      <td>40.406546</td>\n",
       "      <td>-79.945442</td>\n",
       "    </tr>\n",
       "    <tr>\n",
       "      <th>2</th>\n",
       "      <td>EvGard Extension</td>\n",
       "      <td>587</td>\n",
       "      <td>other</td>\n",
       "      <td>https://www.growpittsburgh.org/directory/garde...</td>\n",
       "      <td>NaN</td>\n",
       "      <td>Pittsburgh</td>\n",
       "      <td>Pennsylvania</td>\n",
       "      <td>15201.0</td>\n",
       "      <td>US</td>\n",
       "      <td>40.406377</td>\n",
       "      <td>-79.945559</td>\n",
       "    </tr>\n",
       "    <tr>\n",
       "      <th>3</th>\n",
       "      <td>Glen Hazel Communiuty Garden</td>\n",
       "      <td>588</td>\n",
       "      <td>other</td>\n",
       "      <td>https://www.growpittsburgh.org/directory/garde...</td>\n",
       "      <td>Johnston Avenue at Roselle Drive</td>\n",
       "      <td>Pittsburgh</td>\n",
       "      <td>Pennsylvania</td>\n",
       "      <td>15207.0</td>\n",
       "      <td>US</td>\n",
       "      <td>40.406040</td>\n",
       "      <td>-79.931253</td>\n",
       "    </tr>\n",
       "  </tbody>\n",
       "</table>\n",
       "</div>"
      ],
      "text/plain": [
       "                   urban_grower  grower_id                        category  \\\n",
       "0                Angora Gardens        584  sustainability-fund-site|other   \n",
       "1            Everybody's Garden        586  sustainability-fund-site|other   \n",
       "2              EvGard Extension        587                           other   \n",
       "3  Glen Hazel Communiuty Garden        588                           other   \n",
       "\n",
       "                                                 url  \\\n",
       "0  https://www.growpittsburgh.org/directory/garde...   \n",
       "1  https://www.growpittsburgh.org/directory/garde...   \n",
       "2  https://www.growpittsburgh.org/directory/garde...   \n",
       "3  https://www.growpittsburgh.org/directory/garde...   \n",
       "\n",
       "                     street_address        city         state  zip_code  \\\n",
       "0                       3 Muse Lane   White Oak  Pennsylvania   15131.0   \n",
       "1         301 West Elizabeth Street  Pittsburgh  Pennsylvania   15207.0   \n",
       "2                               NaN  Pittsburgh  Pennsylvania   15201.0   \n",
       "3  Johnston Avenue at Roselle Drive  Pittsburgh  Pennsylvania   15207.0   \n",
       "\n",
       "  country   latitude  longitude  \n",
       "0      US  40.404686 -79.862095  \n",
       "1      US  40.406546 -79.945442  \n",
       "2      US  40.406377 -79.945559  \n",
       "3      US  40.406040 -79.931253  "
      ]
     },
     "execution_count": 19,
     "metadata": {},
     "output_type": "execute_result"
    }
   ],
   "source": [
    "import pandas as pd \n",
    "import geopandas as gpd\n",
    "\n",
    "data = pd.read_csv('data/GrowGardenData.csv')\n",
    "data.head(4)"
   ]
  },
  {
   "cell_type": "markdown",
   "metadata": {},
   "source": [
    "For each grow garden in Pittsburgh, this dataset contains it's name, a unique ID, the type of garden, it's city, state, zip code, country, latitude, and longitude. "
   ]
  },
  {
   "cell_type": "markdown",
   "metadata": {},
   "source": [
    "## The Best Neighborhood (According to my sub-metric)"
   ]
  },
  {
   "cell_type": "markdown",
   "metadata": {},
   "source": [
    "I am going to start by dropping a couple of columns from the dataset which are not useful in determining which gardens are in which neighborhood, in order to tidy up the dataset. "
   ]
  },
  {
   "cell_type": "code",
   "execution_count": 20,
   "metadata": {},
   "outputs": [
    {
     "data": {
      "text/html": [
       "<div>\n",
       "<style scoped>\n",
       "    .dataframe tbody tr th:only-of-type {\n",
       "        vertical-align: middle;\n",
       "    }\n",
       "\n",
       "    .dataframe tbody tr th {\n",
       "        vertical-align: top;\n",
       "    }\n",
       "\n",
       "    .dataframe thead th {\n",
       "        text-align: right;\n",
       "    }\n",
       "</style>\n",
       "<table border=\"1\" class=\"dataframe\">\n",
       "  <thead>\n",
       "    <tr style=\"text-align: right;\">\n",
       "      <th></th>\n",
       "      <th>latitude</th>\n",
       "      <th>longitude</th>\n",
       "    </tr>\n",
       "  </thead>\n",
       "  <tbody>\n",
       "    <tr>\n",
       "      <th>0</th>\n",
       "      <td>40.404686</td>\n",
       "      <td>-79.862095</td>\n",
       "    </tr>\n",
       "    <tr>\n",
       "      <th>1</th>\n",
       "      <td>40.406546</td>\n",
       "      <td>-79.945442</td>\n",
       "    </tr>\n",
       "    <tr>\n",
       "      <th>2</th>\n",
       "      <td>40.406377</td>\n",
       "      <td>-79.945559</td>\n",
       "    </tr>\n",
       "    <tr>\n",
       "      <th>3</th>\n",
       "      <td>40.406040</td>\n",
       "      <td>-79.931253</td>\n",
       "    </tr>\n",
       "  </tbody>\n",
       "</table>\n",
       "</div>"
      ],
      "text/plain": [
       "    latitude  longitude\n",
       "0  40.404686 -79.862095\n",
       "1  40.406546 -79.945442\n",
       "2  40.406377 -79.945559\n",
       "3  40.406040 -79.931253"
      ]
     },
     "execution_count": 20,
     "metadata": {},
     "output_type": "execute_result"
    }
   ],
   "source": [
    "data1 = data.drop(columns=[\"category\",\"url\",\"state\",\"country\",\"urban_grower\",\n",
    "                           \"grower_id\",\"street_address\",\"city\",\"zip_code\"])\n",
    "data1.head(4)"
   ]
  },
  {
   "cell_type": "markdown",
   "metadata": {},
   "source": [
    "The columns I have removed are category, url, state, country, urban_grower, grower_id, street_address, city, and zip_code. The only two remaining columns are latitude and longitude, which are the only two necessary in figuring out which neighborhood each garden belongs to. "
   ]
  },
  {
   "cell_type": "markdown",
   "metadata": {},
   "source": [
    "Next, I am going to load in the data of Pittsburgh neighborhoods and determine how many gardens are in each neighborhood. "
   ]
  },
  {
   "cell_type": "code",
   "execution_count": 21,
   "metadata": {},
   "outputs": [
    {
     "data": {
      "text/html": [
       "<div>\n",
       "<style scoped>\n",
       "    .dataframe tbody tr th:only-of-type {\n",
       "        vertical-align: middle;\n",
       "    }\n",
       "\n",
       "    .dataframe tbody tr th {\n",
       "        vertical-align: top;\n",
       "    }\n",
       "\n",
       "    .dataframe thead th {\n",
       "        text-align: right;\n",
       "    }\n",
       "</style>\n",
       "<table border=\"1\" class=\"dataframe\">\n",
       "  <thead>\n",
       "    <tr style=\"text-align: right;\">\n",
       "      <th></th>\n",
       "      <th>objectid</th>\n",
       "      <th>fid_blockg</th>\n",
       "      <th>statefp10</th>\n",
       "      <th>countyfp10</th>\n",
       "      <th>tractce10</th>\n",
       "      <th>blkgrpce10</th>\n",
       "      <th>geoid10</th>\n",
       "      <th>namelsad10</th>\n",
       "      <th>mtfcc10</th>\n",
       "      <th>funcstat10</th>\n",
       "      <th>...</th>\n",
       "      <th>shape_ar_1</th>\n",
       "      <th>page_numbe</th>\n",
       "      <th>plannerass</th>\n",
       "      <th>created_us</th>\n",
       "      <th>created_da</th>\n",
       "      <th>last_edite</th>\n",
       "      <th>last_edi_1</th>\n",
       "      <th>Shape__Are</th>\n",
       "      <th>Shape__Len</th>\n",
       "      <th>geometry</th>\n",
       "    </tr>\n",
       "  </thead>\n",
       "  <tbody>\n",
       "    <tr>\n",
       "      <th>0</th>\n",
       "      <td>1</td>\n",
       "      <td>0.0</td>\n",
       "      <td>42</td>\n",
       "      <td>003</td>\n",
       "      <td>040500</td>\n",
       "      <td>1</td>\n",
       "      <td>420030405001</td>\n",
       "      <td>Block Group 1</td>\n",
       "      <td>G5030</td>\n",
       "      <td>S</td>\n",
       "      <td>...</td>\n",
       "      <td>7.843108e+06</td>\n",
       "      <td>15</td>\n",
       "      <td>Derek Dauphin</td>\n",
       "      <td>pgh.admin</td>\n",
       "      <td>2019-10-23T14:17:16.403Z</td>\n",
       "      <td>pgh.admin</td>\n",
       "      <td>2019-10-23T14:17:16.403Z</td>\n",
       "      <td>7.842997e+06</td>\n",
       "      <td>11525.904546</td>\n",
       "      <td>POLYGON ((-79.95304 40.44203, -79.95302 40.442...</td>\n",
       "    </tr>\n",
       "    <tr>\n",
       "      <th>1</th>\n",
       "      <td>2</td>\n",
       "      <td>1.0</td>\n",
       "      <td>42</td>\n",
       "      <td>003</td>\n",
       "      <td>040400</td>\n",
       "      <td>1</td>\n",
       "      <td>420030404001</td>\n",
       "      <td>Block Group 1</td>\n",
       "      <td>G5030</td>\n",
       "      <td>S</td>\n",
       "      <td>...</td>\n",
       "      <td>1.390463e+07</td>\n",
       "      <td>15</td>\n",
       "      <td>Derek Dauphin</td>\n",
       "      <td>pgh.admin</td>\n",
       "      <td>2019-10-23T14:17:16.403Z</td>\n",
       "      <td>pgh.admin</td>\n",
       "      <td>2019-10-23T14:17:16.403Z</td>\n",
       "      <td>1.390469e+07</td>\n",
       "      <td>20945.562570</td>\n",
       "      <td>POLYGON ((-79.95455 40.45882, -79.95427 40.458...</td>\n",
       "    </tr>\n",
       "    <tr>\n",
       "      <th>2</th>\n",
       "      <td>3</td>\n",
       "      <td>2.0</td>\n",
       "      <td>42</td>\n",
       "      <td>003</td>\n",
       "      <td>040200</td>\n",
       "      <td>2</td>\n",
       "      <td>420030402002</td>\n",
       "      <td>Block Group 2</td>\n",
       "      <td>G5030</td>\n",
       "      <td>S</td>\n",
       "      <td>...</td>\n",
       "      <td>5.999801e+06</td>\n",
       "      <td>15</td>\n",
       "      <td>Derek Dauphin</td>\n",
       "      <td>pgh.admin</td>\n",
       "      <td>2019-10-23T14:17:16.403Z</td>\n",
       "      <td>pgh.admin</td>\n",
       "      <td>2019-10-23T14:17:16.403Z</td>\n",
       "      <td>5.998649e+06</td>\n",
       "      <td>18280.484515</td>\n",
       "      <td>POLYGON ((-79.96230 40.44294, -79.96220 40.442...</td>\n",
       "    </tr>\n",
       "  </tbody>\n",
       "</table>\n",
       "<p>3 rows × 38 columns</p>\n",
       "</div>"
      ],
      "text/plain": [
       "   objectid  fid_blockg statefp10 countyfp10 tractce10 blkgrpce10  \\\n",
       "0         1         0.0        42        003    040500          1   \n",
       "1         2         1.0        42        003    040400          1   \n",
       "2         3         2.0        42        003    040200          2   \n",
       "\n",
       "        geoid10     namelsad10 mtfcc10 funcstat10  ...    shape_ar_1  \\\n",
       "0  420030405001  Block Group 1   G5030          S  ...  7.843108e+06   \n",
       "1  420030404001  Block Group 1   G5030          S  ...  1.390463e+07   \n",
       "2  420030402002  Block Group 2   G5030          S  ...  5.999801e+06   \n",
       "\n",
       "   page_numbe     plannerass created_us                created_da  last_edite  \\\n",
       "0          15  Derek Dauphin  pgh.admin  2019-10-23T14:17:16.403Z   pgh.admin   \n",
       "1          15  Derek Dauphin  pgh.admin  2019-10-23T14:17:16.403Z   pgh.admin   \n",
       "2          15  Derek Dauphin  pgh.admin  2019-10-23T14:17:16.403Z   pgh.admin   \n",
       "\n",
       "                 last_edi_1    Shape__Are    Shape__Len  \\\n",
       "0  2019-10-23T14:17:16.403Z  7.842997e+06  11525.904546   \n",
       "1  2019-10-23T14:17:16.403Z  1.390469e+07  20945.562570   \n",
       "2  2019-10-23T14:17:16.403Z  5.998649e+06  18280.484515   \n",
       "\n",
       "                                            geometry  \n",
       "0  POLYGON ((-79.95304 40.44203, -79.95302 40.442...  \n",
       "1  POLYGON ((-79.95455 40.45882, -79.95427 40.458...  \n",
       "2  POLYGON ((-79.96230 40.44294, -79.96220 40.442...  \n",
       "\n",
       "[3 rows x 38 columns]"
      ]
     },
     "execution_count": 21,
     "metadata": {},
     "output_type": "execute_result"
    }
   ],
   "source": [
    "neighborhood_data = gpd.read_file(\"data/Neighborhoods/Neighborhoods_.shp\")\n",
    "neighborhood_data.head(3)"
   ]
  },
  {
   "cell_type": "markdown",
   "metadata": {},
   "source": [
    "I am now going to tidy up this dataset, so it will be easier to view and determine how many grow gardens are in each neighborhood. I am going to simplify this geopandas dataset into a much simpler pandas dataset. "
   ]
  },
  {
   "cell_type": "code",
   "execution_count": 22,
   "metadata": {},
   "outputs": [
    {
     "data": {
      "text/html": [
       "<div>\n",
       "<style scoped>\n",
       "    .dataframe tbody tr th:only-of-type {\n",
       "        vertical-align: middle;\n",
       "    }\n",
       "\n",
       "    .dataframe tbody tr th {\n",
       "        vertical-align: top;\n",
       "    }\n",
       "\n",
       "    .dataframe thead th {\n",
       "        text-align: right;\n",
       "    }\n",
       "</style>\n",
       "<table border=\"1\" class=\"dataframe\">\n",
       "  <thead>\n",
       "    <tr style=\"text-align: right;\">\n",
       "      <th></th>\n",
       "      <th>Neighborhood</th>\n",
       "      <th>Geometry</th>\n",
       "      <th>Grow_Gardens</th>\n",
       "    </tr>\n",
       "  </thead>\n",
       "  <tbody>\n",
       "    <tr>\n",
       "      <th>0</th>\n",
       "      <td>Central Oakland</td>\n",
       "      <td>POLYGON ((-79.95304 40.44203, -79.95302 40.442...</td>\n",
       "      <td>0</td>\n",
       "    </tr>\n",
       "    <tr>\n",
       "      <th>1</th>\n",
       "      <td>North Oakland</td>\n",
       "      <td>POLYGON ((-79.95455 40.45882, -79.95427 40.458...</td>\n",
       "      <td>0</td>\n",
       "    </tr>\n",
       "    <tr>\n",
       "      <th>2</th>\n",
       "      <td>West Oakland</td>\n",
       "      <td>POLYGON ((-79.96230 40.44294, -79.96220 40.442...</td>\n",
       "      <td>0</td>\n",
       "    </tr>\n",
       "  </tbody>\n",
       "</table>\n",
       "</div>"
      ],
      "text/plain": [
       "      Neighborhood                                           Geometry  \\\n",
       "0  Central Oakland  POLYGON ((-79.95304 40.44203, -79.95302 40.442...   \n",
       "1    North Oakland  POLYGON ((-79.95455 40.45882, -79.95427 40.458...   \n",
       "2     West Oakland  POLYGON ((-79.96230 40.44294, -79.96220 40.442...   \n",
       "\n",
       "   Grow_Gardens  \n",
       "0             0  \n",
       "1             0  \n",
       "2             0  "
      ]
     },
     "execution_count": 22,
     "metadata": {},
     "output_type": "execute_result"
    }
   ],
   "source": [
    "neighborhoods = pd.DataFrame(columns = [\"Neighborhood\", \"Geometry\", \"Grow_Gardens\"])\n",
    "neighborhoods[\"Neighborhood\"] = neighborhood_data[\"hood\"]\n",
    "neighborhoods[\"Geometry\"] = neighborhood_data[\"geometry\"]\n",
    "neighborhoods[\"Grow_Gardens\"] = 0\n",
    "\n",
    "neighborhoods.head(3)"
   ]
  },
  {
   "cell_type": "markdown",
   "metadata": {},
   "source": [
    "This dataset just contains each Pittsburgh neighborhood, alongside it's longitude and latitudes. It also has a column named \"Grow_Gardens\" which will be used to keep track of the number of grow gardens in each neighborhood. "
   ]
  },
  {
   "cell_type": "markdown",
   "metadata": {},
   "source": [
    "Now, I am going to iterate through the grow gardens data, and determine how many gardens are in each neighborhood, by updating the \"Grow_Gardens\" column in the dataset I have just created. "
   ]
  },
  {
   "cell_type": "code",
   "execution_count": 25,
   "metadata": {},
   "outputs": [
    {
     "data": {
      "text/html": [
       "<div>\n",
       "<style scoped>\n",
       "    .dataframe tbody tr th:only-of-type {\n",
       "        vertical-align: middle;\n",
       "    }\n",
       "\n",
       "    .dataframe tbody tr th {\n",
       "        vertical-align: top;\n",
       "    }\n",
       "\n",
       "    .dataframe thead th {\n",
       "        text-align: right;\n",
       "    }\n",
       "</style>\n",
       "<table border=\"1\" class=\"dataframe\">\n",
       "  <thead>\n",
       "    <tr style=\"text-align: right;\">\n",
       "      <th></th>\n",
       "      <th>Neighborhood</th>\n",
       "      <th>Geometry</th>\n",
       "      <th>Grow_Gardens</th>\n",
       "    </tr>\n",
       "  </thead>\n",
       "  <tbody>\n",
       "    <tr>\n",
       "      <th>0</th>\n",
       "      <td>Central Oakland</td>\n",
       "      <td>POLYGON ((-79.95304 40.44203, -79.95302 40.442...</td>\n",
       "      <td>0</td>\n",
       "    </tr>\n",
       "    <tr>\n",
       "      <th>1</th>\n",
       "      <td>North Oakland</td>\n",
       "      <td>POLYGON ((-79.95455 40.45882, -79.95427 40.458...</td>\n",
       "      <td>1</td>\n",
       "    </tr>\n",
       "    <tr>\n",
       "      <th>2</th>\n",
       "      <td>West Oakland</td>\n",
       "      <td>POLYGON ((-79.96230 40.44294, -79.96220 40.442...</td>\n",
       "      <td>3</td>\n",
       "    </tr>\n",
       "    <tr>\n",
       "      <th>3</th>\n",
       "      <td>Crawford-Roberts</td>\n",
       "      <td>POLYGON ((-79.98275 40.44641, -79.98273 40.446...</td>\n",
       "      <td>1</td>\n",
       "    </tr>\n",
       "    <tr>\n",
       "      <th>4</th>\n",
       "      <td>Strip District</td>\n",
       "      <td>POLYGON ((-79.97494 40.45629, -79.97484 40.456...</td>\n",
       "      <td>0</td>\n",
       "    </tr>\n",
       "    <tr>\n",
       "      <th>5</th>\n",
       "      <td>Central Business District</td>\n",
       "      <td>POLYGON ((-79.99238 40.44484, -79.99233 40.444...</td>\n",
       "      <td>0</td>\n",
       "    </tr>\n",
       "    <tr>\n",
       "      <th>6</th>\n",
       "      <td>Spring Hill-City View</td>\n",
       "      <td>POLYGON ((-79.99761 40.47460, -79.99761 40.474...</td>\n",
       "      <td>0</td>\n",
       "    </tr>\n",
       "    <tr>\n",
       "      <th>7</th>\n",
       "      <td>Perry South</td>\n",
       "      <td>POLYGON ((-80.01456 40.47727, -80.01462 40.477...</td>\n",
       "      <td>1</td>\n",
       "    </tr>\n",
       "    <tr>\n",
       "      <th>8</th>\n",
       "      <td>Summer Hill</td>\n",
       "      <td>POLYGON ((-80.01087 40.50097, -80.01073 40.499...</td>\n",
       "      <td>0</td>\n",
       "    </tr>\n",
       "    <tr>\n",
       "      <th>9</th>\n",
       "      <td>Northview Heights</td>\n",
       "      <td>POLYGON ((-80.00327 40.48271, -80.00326 40.482...</td>\n",
       "      <td>0</td>\n",
       "    </tr>\n",
       "  </tbody>\n",
       "</table>\n",
       "</div>"
      ],
      "text/plain": [
       "                Neighborhood  \\\n",
       "0            Central Oakland   \n",
       "1              North Oakland   \n",
       "2               West Oakland   \n",
       "3           Crawford-Roberts   \n",
       "4             Strip District   \n",
       "5  Central Business District   \n",
       "6      Spring Hill-City View   \n",
       "7                Perry South   \n",
       "8                Summer Hill   \n",
       "9          Northview Heights   \n",
       "\n",
       "                                            Geometry  Grow_Gardens  \n",
       "0  POLYGON ((-79.95304 40.44203, -79.95302 40.442...             0  \n",
       "1  POLYGON ((-79.95455 40.45882, -79.95427 40.458...             1  \n",
       "2  POLYGON ((-79.96230 40.44294, -79.96220 40.442...             3  \n",
       "3  POLYGON ((-79.98275 40.44641, -79.98273 40.446...             1  \n",
       "4  POLYGON ((-79.97494 40.45629, -79.97484 40.456...             0  \n",
       "5  POLYGON ((-79.99238 40.44484, -79.99233 40.444...             0  \n",
       "6  POLYGON ((-79.99761 40.47460, -79.99761 40.474...             0  \n",
       "7  POLYGON ((-80.01456 40.47727, -80.01462 40.477...             1  \n",
       "8  POLYGON ((-80.01087 40.50097, -80.01073 40.499...             0  \n",
       "9  POLYGON ((-80.00327 40.48271, -80.00326 40.482...             0  "
      ]
     },
     "execution_count": 25,
     "metadata": {},
     "output_type": "execute_result"
    }
   ],
   "source": [
    "# Importing the Point class in order to use longitude and latitude to determine what gardens are in what neighborhood \n",
    "from shapely.geometry import Point\n",
    "\n",
    "for i, garden in data1.iterrows(): \n",
    "    # Begin by fixing each garden to a point \n",
    "    pt = Point(garden['longitude'],garden['latitude'])\n",
    "    \n",
    "    # Next, will itterate through the neighborhoods until we find the correct nieghborhood belonging to each garden \n",
    "    for j, neighborhood in neighborhoods.iterrows(): \n",
    "        # When neighborhood contains the point of the garden, increment the garden variable and move onto the next garden \n",
    "        if neighborhood['Geometry'].contains(pt): \n",
    "            neighborhoods.at[j, 'Grow_Gardens'] = neighborhood[\"Grow_Gardens\"] + 1\n",
    "            break\n",
    "            \n",
    "neighborhoods.head(10)"
   ]
  },
  {
   "cell_type": "markdown",
   "metadata": {},
   "source": [
    "Next, I am going to sort the neighborhoods, from most grow gardens to least. "
   ]
  },
  {
   "cell_type": "code",
   "execution_count": 31,
   "metadata": {},
   "outputs": [
    {
     "data": {
      "text/html": [
       "<div>\n",
       "<style scoped>\n",
       "    .dataframe tbody tr th:only-of-type {\n",
       "        vertical-align: middle;\n",
       "    }\n",
       "\n",
       "    .dataframe tbody tr th {\n",
       "        vertical-align: top;\n",
       "    }\n",
       "\n",
       "    .dataframe thead th {\n",
       "        text-align: right;\n",
       "    }\n",
       "</style>\n",
       "<table border=\"1\" class=\"dataframe\">\n",
       "  <thead>\n",
       "    <tr style=\"text-align: right;\">\n",
       "      <th></th>\n",
       "      <th>Neighborhood</th>\n",
       "      <th>Geometry</th>\n",
       "      <th>Grow_Gardens</th>\n",
       "    </tr>\n",
       "  </thead>\n",
       "  <tbody>\n",
       "    <tr>\n",
       "      <th>33</th>\n",
       "      <td>Point Breeze</td>\n",
       "      <td>POLYGON ((-79.89526 40.44717, -79.89517 40.447...</td>\n",
       "      <td>4</td>\n",
       "    </tr>\n",
       "    <tr>\n",
       "      <th>77</th>\n",
       "      <td>East Liberty</td>\n",
       "      <td>POLYGON ((-79.91581 40.46088, -79.91580 40.460...</td>\n",
       "      <td>4</td>\n",
       "    </tr>\n",
       "    <tr>\n",
       "      <th>37</th>\n",
       "      <td>Garfield</td>\n",
       "      <td>POLYGON ((-79.92961 40.46528, -79.92994 40.464...</td>\n",
       "      <td>4</td>\n",
       "    </tr>\n",
       "    <tr>\n",
       "      <th>2</th>\n",
       "      <td>West Oakland</td>\n",
       "      <td>POLYGON ((-79.96230 40.44294, -79.96220 40.442...</td>\n",
       "      <td>3</td>\n",
       "    </tr>\n",
       "    <tr>\n",
       "      <th>18</th>\n",
       "      <td>Hazelwood</td>\n",
       "      <td>POLYGON ((-79.95505 40.42713, -79.95498 40.427...</td>\n",
       "      <td>3</td>\n",
       "    </tr>\n",
       "    <tr>\n",
       "      <th>21</th>\n",
       "      <td>South Oakland</td>\n",
       "      <td>POLYGON ((-79.95899 40.43665, -79.95887 40.436...</td>\n",
       "      <td>3</td>\n",
       "    </tr>\n",
       "    <tr>\n",
       "      <th>81</th>\n",
       "      <td>Middle Hill</td>\n",
       "      <td>MULTIPOLYGON (((-79.97980 40.44761, -79.97979 ...</td>\n",
       "      <td>3</td>\n",
       "    </tr>\n",
       "    <tr>\n",
       "      <th>43</th>\n",
       "      <td>Larimer</td>\n",
       "      <td>POLYGON ((-79.91243 40.45405, -79.91243 40.454...</td>\n",
       "      <td>3</td>\n",
       "    </tr>\n",
       "    <tr>\n",
       "      <th>12</th>\n",
       "      <td>Central Lawrenceville</td>\n",
       "      <td>POLYGON ((-79.95393 40.47731, -79.95381 40.477...</td>\n",
       "      <td>3</td>\n",
       "    </tr>\n",
       "    <tr>\n",
       "      <th>24</th>\n",
       "      <td>Squirrel Hill South</td>\n",
       "      <td>POLYGON ((-79.94475 40.44101, -79.94405 40.440...</td>\n",
       "      <td>2</td>\n",
       "    </tr>\n",
       "    <tr>\n",
       "      <th>61</th>\n",
       "      <td>Polish Hill</td>\n",
       "      <td>POLYGON ((-79.96779 40.46085, -79.96716 40.460...</td>\n",
       "      <td>2</td>\n",
       "    </tr>\n",
       "    <tr>\n",
       "      <th>31</th>\n",
       "      <td>Bloomfield</td>\n",
       "      <td>POLYGON ((-79.93939 40.46454, -79.93933 40.464...</td>\n",
       "      <td>2</td>\n",
       "    </tr>\n",
       "    <tr>\n",
       "      <th>48</th>\n",
       "      <td>Friendship</td>\n",
       "      <td>POLYGON ((-79.93095 40.46304, -79.93098 40.462...</td>\n",
       "      <td>1</td>\n",
       "    </tr>\n",
       "    <tr>\n",
       "      <th>73</th>\n",
       "      <td>Homewood South</td>\n",
       "      <td>POLYGON ((-79.88666 40.45521, -79.88651 40.455...</td>\n",
       "      <td>1</td>\n",
       "    </tr>\n",
       "    <tr>\n",
       "      <th>67</th>\n",
       "      <td>Regent Square</td>\n",
       "      <td>POLYGON ((-79.89709 40.42765, -79.89661 40.427...</td>\n",
       "      <td>1</td>\n",
       "    </tr>\n",
       "  </tbody>\n",
       "</table>\n",
       "</div>"
      ],
      "text/plain": [
       "             Neighborhood                                           Geometry  \\\n",
       "33           Point Breeze  POLYGON ((-79.89526 40.44717, -79.89517 40.447...   \n",
       "77           East Liberty  POLYGON ((-79.91581 40.46088, -79.91580 40.460...   \n",
       "37               Garfield  POLYGON ((-79.92961 40.46528, -79.92994 40.464...   \n",
       "2            West Oakland  POLYGON ((-79.96230 40.44294, -79.96220 40.442...   \n",
       "18              Hazelwood  POLYGON ((-79.95505 40.42713, -79.95498 40.427...   \n",
       "21          South Oakland  POLYGON ((-79.95899 40.43665, -79.95887 40.436...   \n",
       "81            Middle Hill  MULTIPOLYGON (((-79.97980 40.44761, -79.97979 ...   \n",
       "43                Larimer  POLYGON ((-79.91243 40.45405, -79.91243 40.454...   \n",
       "12  Central Lawrenceville  POLYGON ((-79.95393 40.47731, -79.95381 40.477...   \n",
       "24    Squirrel Hill South  POLYGON ((-79.94475 40.44101, -79.94405 40.440...   \n",
       "61            Polish Hill  POLYGON ((-79.96779 40.46085, -79.96716 40.460...   \n",
       "31             Bloomfield  POLYGON ((-79.93939 40.46454, -79.93933 40.464...   \n",
       "48             Friendship  POLYGON ((-79.93095 40.46304, -79.93098 40.462...   \n",
       "73         Homewood South  POLYGON ((-79.88666 40.45521, -79.88651 40.455...   \n",
       "67          Regent Square  POLYGON ((-79.89709 40.42765, -79.89661 40.427...   \n",
       "\n",
       "    Grow_Gardens  \n",
       "33             4  \n",
       "77             4  \n",
       "37             4  \n",
       "2              3  \n",
       "18             3  \n",
       "21             3  \n",
       "81             3  \n",
       "43             3  \n",
       "12             3  \n",
       "24             2  \n",
       "61             2  \n",
       "31             2  \n",
       "48             1  \n",
       "73             1  \n",
       "67             1  "
      ]
     },
     "execution_count": 31,
     "metadata": {},
     "output_type": "execute_result"
    }
   ],
   "source": [
    "sorted_neighborhoods = neighborhoods.sort_values(\"Grow_Gardens\", ascending=False)\n",
    "\n",
    "sorted_neighborhoods.head(15)"
   ]
  },
  {
   "cell_type": "markdown",
   "metadata": {},
   "source": [
    "After viewing the data, I learned that just 33 neighorhoods in Pittsburgh have at least 1 grow garden, so I am going to put those 33 on a plot. "
   ]
  },
  {
   "cell_type": "code",
   "execution_count": 34,
   "metadata": {},
   "outputs": [
    {
     "data": {
      "image/png": "[encoded data removed]",
      "text/plain": [
       "<Figure size 432x288 with 1 Axes>"
      ]
     },
     "metadata": {
      "needs_background": "light"
     },
     "output_type": "display_data"
    }
   ],
   "source": [
    "plot = sorted_neighborhoods.iloc[:33].plot(kind='bar', x=\"Neighborhood\", y=\"Grow_Gardens\",\n",
    "                                           title=\"Grow Gardens per Pittsburgh Neighborhood\")"
   ]
  },
  {
   "cell_type": "markdown",
   "metadata": {},
   "source": [
    "## Results"
   ]
  },
  {
   "cell_type": "markdown",
   "metadata": {},
   "source": [
    "From looking at the plot, Point Breeze, East Liberty, and Garfield are the only Pittsburgh neighborhoods with 4 grow gardens. \n",
    "\n",
    "Those three neighborhoods are followed by West Oakland, Hazelwood, South Oakland, Middle Hill, Larimer, and Central Lawrenceville, which all have 3 grow gardens. \n",
    "\n",
    "Squirrel Hill South, Polish Hill, and Bloomfield all have two grow gardens, and then there ae a number of Pittsburgh neighborhoods that have one garden contained in their neighborhood. "
   ]
  },
  {
   "cell_type": "markdown",
   "metadata": {},
   "source": [
    "## Conclusion "
   ]
  },
  {
   "cell_type": "markdown",
   "metadata": {},
   "source": [
    "To summarize, according to my submetric, either Point Breeze, East Liberty, or Garfield is the best neighborhood in Pittsburgh, because they have the most grow gardens. "
   ]
  }
 ],
 "metadata": {
  "kernelspec": {
   "display_name": "Python 3",
   "language": "python",
   "name": "python3"
  },
  "language_info": {
   "codemirror_mode": {
    "name": "ipython",
    "version": 3
   },
   "file_extension": ".py",
   "mimetype": "text/x-python",
   "name": "python",
   "nbconvert_exporter": "python",
   "pygments_lexer": "ipython3",
   "version": "3.8.3"
  }
 },
 "nbformat": 4,
 "nbformat_minor": 4
}
