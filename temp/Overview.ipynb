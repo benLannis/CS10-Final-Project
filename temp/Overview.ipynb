{
 "cells": [
  {
   "cell_type": "markdown",
   "metadata": {},
   "source": [
    "# Which neighborhood in Pittsburgh has the best food?"
   ]
  },
  {
   "cell_type": "markdown",
   "metadata": {},
   "source": [
    "By: The Foodies (Ben Lannis, Mason Hoydick, and Dominic Galatis)"
   ]
  },
  {
   "cell_type": "markdown",
   "metadata": {},
   "source": [
    "![farmers market](https://assets-varnish.triblive.com/2020/07/2816921_web1_ptr-liv-marketsquare-071420.jpg)"
   ]
  },
  {
   "cell_type": "markdown",
   "metadata": {},
   "source": [
    "## Introduction\n",
    "\n",
    "Food is an essential part of where you live. In particular, access to fresh, safe, and locally grown food is vital to individual and community health. Oftentimes, for instance, low income communities lack reasonable access to fresh produce and groceries for a variety of socioeconomic reasons. These neighborhood are known as \"food deserts,\" so identifying the best and worst neighborhoods in terms of access to grocery stores/supermarkets will allow us to determine which places are doing things well and where the focus and attention of future policymaking ought to lie. At the same time access to community-based food gardens provides great access to fresh, locally-grown produce. Finally, food safety violations give us important information about the quality of prepared-food options in a community."
   ]
  },
  {
   "cell_type": "markdown",
   "metadata": {},
   "source": [
    "## The Metric\n",
    "\n",
    "For all of the reasons mentioned above, we've decided that the \"best\" neighborhood in Pittsburgh ought to be the one with the best food. Moreover, we believe that the submetrics of supermarket access, number of community \"grow gardens\", and number of food safety violations are three key indicators of overall food quality.\n",
    "\n",
    "* Ben: Supermarket access (https://data.wprdc.org/dataset/allegheny-county-supermarkets-convenience-stores). This dataset includes location information about convenience stores and supermarkets in the city of Pittsburgh.\n",
    "* Mason: Grow Pittsburgh Food Gardens (https://data.wprdc.org/dataset/grow-pittsburgh-food-gardens). This dataset includes location information about Grow Pittsburgh Food Gardens.\n",
    "* Dom: Food safety violations (). This dataset includes location information about food safety violations by establishment location.\n",
    "\n",
    "In the end, we'll synthesize the results of our individual analyses in order to name a single neighborhood that we believe has the best food in Pittsburgh."
   ]
  },
  {
   "cell_type": "markdown",
   "metadata": {},
   "source": [
    "### Metric #1: Supermarket Density (by Ben Lannis)"
   ]
  },
  {
   "cell_type": "code",
   "execution_count": null,
   "metadata": {},
   "outputs": [],
   "source": []
  },
  {
   "cell_type": "markdown",
   "metadata": {},
   "source": [
    "### Metric #2: Grow Pittsburgh Food Gardens (by Mason Hoydick)"
   ]
  },
  {
   "cell_type": "markdown",
   "metadata": {},
   "source": [
    "## Conclusion"
   ]
  },
  {
   "cell_type": "markdown",
   "metadata": {},
   "source": [
    "**Ben:**\n",
    "\n",
    "**Mason:**\n",
    "\n",
    "**Dom:**"
   ]
  },
  {
   "cell_type": "code",
   "execution_count": null,
   "metadata": {},
   "outputs": [],
   "source": []
  }
 ],
 "metadata": {
  "kernelspec": {
   "display_name": "Python 3",
   "language": "python",
   "name": "python3"
  },
  "language_info": {
   "codemirror_mode": {
    "name": "ipython",
    "version": 3
   },
   "file_extension": ".py",
   "mimetype": "text/x-python",
   "name": "python",
   "nbconvert_exporter": "python",
   "pygments_lexer": "ipython3",
   "version": "3.8.3"
  }
 },
 "nbformat": 4,
 "nbformat_minor": 4
}
